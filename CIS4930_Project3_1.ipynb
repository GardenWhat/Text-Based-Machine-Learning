{
 "cells": [
  {
   "cell_type": "markdown",
   "metadata": {},
   "source": [
    "# 1) The Problem"
   ]
  },
  {
   "cell_type": "markdown",
   "metadata": {},
   "source": [
    "We have set out to build a Recurrent Neural Network to predict if a question is true or false based on a small passage regarding the topic."
   ]
  },
  {
   "cell_type": "markdown",
   "metadata": {},
   "source": [
    "# Preformance Metrics"
   ]
  },
  {
   "cell_type": "markdown",
   "metadata": {},
   "source": [
    "Their baseline was 80.4% after the creation of a new algorithm. There was a 90% accuracy when humans labeled the questions with their respective true or false answers. The majority-baseline was 62%. This means that instead of having a 50/50 split on their data, they had a 62/38 split. "
   ]
  },
  {
   "cell_type": "markdown",
   "metadata": {},
   "source": [
    "# Why is this important?"
   ]
  },
  {
   "cell_type": "markdown",
   "metadata": {},
   "source": [
    "With more and more companies moving to an automated chat bot style of customer service, the accuracy with which a computer can answer questions is paramount."
   ]
  },
  {
   "cell_type": "markdown",
   "metadata": {},
   "source": [
    "#  2) Collection/Discussion of Data"
   ]
  },
  {
   "cell_type": "markdown",
   "metadata": {},
   "source": [
    "Our data came from https://github.com/google-research-datasets/boolean-questions. All of the questions are true or false. This data set was used in a research paper from Google employees published in 2019."
   ]
  },
  {
   "cell_type": "markdown",
   "metadata": {},
   "source": [
    "# 3) Data Analysis"
   ]
  },
  {
   "cell_type": "markdown",
   "metadata": {},
   "source": [
    "# Code"
   ]
  },
  {
   "cell_type": "code",
   "execution_count": 3,
   "metadata": {},
   "outputs": [],
   "source": [
    "#Imports for path models and nlp pipeline.\n",
    "import os\n",
    "import random\n",
    "import re\n",
    "import jsonlines\n",
    "import numpy as np\n",
    "import pickle\n",
    "import tensorflow as tf\n",
    "from sklearn.feature_extraction.text import TfidfVectorizer\n",
    "from scipy.sparse import hstack,vstack\n",
    "from sklearn.model_selection import train_test_split\n",
    "from sklearn.linear_model import LogisticRegression\n",
    "from tensorflow.keras.models import Model\n",
    "from tensorflow.keras.layers import Input, Embedding, Concatenate, Dense, Dropout, LSTM, Bidirectional\n",
    "from tensorflow.keras.activations import relu\n",
    "from sklearn.metrics import classification_report, accuracy_score, confusion_matrix, plot_confusion_matrix\n",
    "import itertools\n",
    "import matplotlib.pyplot as plt"
   ]
  },
  {
   "cell_type": "code",
   "execution_count": 5,
   "metadata": {},
   "outputs": [],
   "source": [
    "#Pulls random indecies to print.\n",
    "def getRandomIndecies(desired_range, n_indecies=5):\n",
    "    randoms = list()\n",
    "    for x in range(n_indecies):\n",
    "        randoms.append(random.randint(0,desired_range))\n",
    "    return randoms"
   ]
  },
  {
   "cell_type": "markdown",
   "metadata": {},
   "source": [
    "Path for text."
   ]
  },
  {
   "cell_type": "code",
   "execution_count": 9,
   "metadata": {},
   "outputs": [],
   "source": [
    "qa_path = os.path.join(os.getcwd())"
   ]
  },
  {
   "cell_type": "markdown",
   "metadata": {},
   "source": [
    "Pulls all text from files into an array of questions, titles, answers, and passages."
   ]
  },
  {
   "cell_type": "code",
   "execution_count": 10,
   "metadata": {},
   "outputs": [],
   "source": [
    "qa_array = list()\n",
    "\n",
    "qa_file = open(os.path.join(qa_path,\"train.jsonl\"), encoding=\"utf-8\")\n",
    "for line in qa_file.readlines():\n",
    "    qa_array.append(line)\n",
    "qa_file.close()\n",
    "\n",
    "qa_file = open(os.path.join(qa_path,\"dev.jsonl\"), encoding=\"utf-8\")\n",
    "for line in qa_file.readlines():\n",
    "    qa_array.append(line)\n",
    "qa_file.close()"
   ]
  },
  {
   "cell_type": "markdown",
   "metadata": {},
   "source": [
    "Prints datapoint to see amount of data and analyze the text."
   ]
  },
  {
   "cell_type": "code",
   "execution_count": 11,
   "metadata": {},
   "outputs": [
    {
     "name": "stdout",
     "output_type": "stream",
     "text": [
      "Datapoints: 12697 \n",
      "\n",
      "{\"question\": \"is there a vacuum in a vacuum cleaner\", \"title\": \"Vacuum cleaner\", \"answer\": \"true\", \"passage\": \"A vacuum cleaner, also known as a sweeper or hoover, is a device that uses an air pump (a centrifugal fan in all but some of the very oldest models), to create a partial vacuum to suck up dust and dirt, usually from floors, and from other surfaces such as upholstery and draperies.\"}\n",
      " \n",
      "\n",
      "{\"question\": \"does the speaker of the house have to be a congressman\", \"title\": \"Speaker of the United States House of Representatives\", \"answer\": \"false\", \"passage\": \"The Constitution does not require the Speaker to be an elected member of the House of Representatives, although every Speaker thus far has been. The Speaker is second in the United States presidential line of succession, after the Vice President and ahead of the President pro tempore of the Senate.\"}\n",
      " \n",
      "\n",
      "{\"question\": \"is chewing tobacco banned in major league baseball\", \"title\": \"Tobacco usage in sport\", \"answer\": \"true\", \"passage\": \"Between 1920 until 1940, when baseball was Americas most popular sport, every team had a tobacco sponsor. It is common perception that many baseball players use tobacco. According to the MLB however this practice is changing and declining. One source states that a reason chewing tobacco usage increased among baseball players was the misconception that it improved concentration, overall performance and was less harmful than smoking a cigarette. Contrary to this, chewing tobacco does not have an established connection to the performance of baseball players. As more information about the dangers of chewing tobacco has come to light it has become stigmatized within baseball itself with players, staff and managers often having to ``sneak'' off to partake. These individuals understand that children will easily copy their actions and try to hide them now, as they are negative role models for youth. Most players have made attempts to quit, but the majority struggle in breaking their addiction. Lenny Dykstra, the former Philadelphia Phillies center-fielder, started dipping at a young age, unaware of how difficult quitting would be. He tells young children, ``They call me ``Nails'' because they say I'm as tough as nails. But I'm not tough enough to beat the spit-tobacco habit. Copy my hustle, copy my determination. But don't copy my spit-tobacco habit.'' In addition Major League Baseball has taken actions to lower tobacco usage amongst its players. This includes a complete ban on tobacco with fines for players and their managers if it is discovered. In the major leagues tobacco companies are no longer allowed to leave free products in stadium clubhouses for the players, with a ban effective December 5, 2016, in the new Collective Bargaining Agreement that prohibits players entering MLB for the first time from using tobacco. (Players who had experience in MLB prior to the day are grandfathered.) Baseball stadiums have stricter tobacco policies for patrons as well though the level of strictness varies per stadium.\"}\n",
      " \n",
      "\n",
      "{\"question\": \"has iceland ever made it to the world cup\", \"title\": \"Iceland at the FIFA World Cup\", \"answer\": \"true\", \"passage\": \"After 12 failed qualification campaigns, Iceland qualified for the FIFA World Cup, for the first time, in 2018. The 2018 FIFA World Cup was Iceland's second major international tournament, having also qualified for UEFA Euro 2016.\"}\n",
      " \n",
      "\n",
      "{\"question\": \"is easter friday a bank holiday in england\", \"title\": \"Bank holiday\", \"answer\": \"false\", \"passage\": \"A bank holiday is a public holiday in the United Kingdom, some Commonwealth countries, Hong Kong and the Republic of Ireland. There is no automatic right to time off on these days, although banks close and the majority of the working population is granted time off work or extra pay for working on these days, depending on their contract. The first official bank holidays were the four days named in the Bank Holidays Act 1871, but today the term is also commonly used for Good Friday and Christmas Day which were already public holidays under common law and therefore not official bank holidays in England, Wales and Northern Ireland.\"}\n",
      " \n",
      "\n"
     ]
    }
   ],
   "source": [
    "print(\"Datapoints:\",len(qa_array),'\\n')\n",
    "for index in getRandomIndecies(len(qa_array)):\n",
    "    print(qa_array[index],'\\n')"
   ]
  },
  {
   "cell_type": "markdown",
   "metadata": {},
   "source": [
    "# 4A) Preprocessing"
   ]
  },
  {
   "cell_type": "markdown",
   "metadata": {},
   "source": [
    "## Sequence"
   ]
  },
  {
   "cell_type": "markdown",
   "metadata": {},
   "source": [
    "Title is redudant so we only extract the question, answer and passage. \n",
    "Extracts question, passage, and answer from the text."
   ]
  },
  {
   "cell_type": "code",
   "execution_count": 12,
   "metadata": {},
   "outputs": [],
   "source": [
    "\n",
    "qap_array = list()\n",
    "\n",
    "for qa in qa_array:\n",
    "    sections = re.findall(r'\"([^\"]*)\"', qa)\n",
    "    qap = ()\n",
    "    for x,section in enumerate(sections):\n",
    "        if(section == \"question\" or section == \"answer\" or section == \"passage\"):\n",
    "            qap = qap + (sections[x+1].lower(),)\n",
    "    qap_array.append(qap)"
   ]
  },
  {
   "cell_type": "markdown",
   "metadata": {},
   "source": [
    "Prints the seperated question, answer and passage."
   ]
  },
  {
   "cell_type": "code",
   "execution_count": 13,
   "metadata": {},
   "outputs": [
    {
     "name": "stdout",
     "output_type": "stream",
     "text": [
      "QAP's: 12697 \n",
      "\n",
      "('does the whole nba team get a ring', 'true', \"the nba championship ring is an annual award given by the national basketball association to the team that wins the nba finals. rings are presented to the team's players, coaches, and members of the executive front office. red auerbach has the most rings overall with 16. phil jackson has the most as coach and bill russell has the most as a player (11 each)\") \n",
      "\n",
      "('can you use coarse salt in a dishwasher', 'true', \"in some countries, especially those in europe, dishwashers include a built-in water softener that removes calcium and magnesium ions from the water. dishwasher salt, which is coarse-grained sodium chloride (table salt), is used to regenerate the resin in the built-in ion-exchange system. the coarse grains prevent it from clogging the softener unit. unlike certain types of salt used for culinary purposes, it does not contain added anticaking agents or magnesium salts. the presence of magnesium salts will defeat the purpose of removing magnesium from the water softener. anticaking agents may lead to clogging or may contain magnesium. table salt may contain added iodine in the form of sodium iodide or potassium iodide. these compounds will not affect the ion-exchange system, but adding table salt to the dishwasher's water softening unit can damage it.\") \n",
      "\n",
      "('has a nfl team won superbowl at home', 'false', \"the home field curse affects the host team of the super bowl. so far no team has yet managed to reach the super bowl in their home stadium. four teams with super bowls in their home venue have qualified for the divisional playoffs: the 1994 miami dolphins, the 1998 miami dolphins, the 2016 houston texans, and the 2017 minnesota vikings, the vikings being the first to qualify for their conference's title game. from 1966--2011 (excluding the six super bowl games held in a stadium without a professional team), the super bowl host team has had 11 winning seasons, four split seasons, and 25 losing seasons. mathematically, the probability of that many losing seasons or more occurring by chance (assuming a 50 percent chance of having a losing season (disregarding .500 seasons)) is 7.69 percent. it should be noted, however, that the super bowl host stadium is selected several years before the game is played, without regard to the teams that qualify.\") \n",
      "\n",
      "('is it illegal to pass on a solid yellow line', 'false', \"a yellow line (solid or dashed) indicates that crossing the line will place a driver in a lane where opposing traffic is coming at the driver. a double yellow line is a painted marking separating two lanes of a road. it consists of two parallel, solid yellow lines, and its presence usually indicates a no-passing restriction or no passing zone, where crossing the line is prohibited. obvious exceptions to this no-passing restriction include emergency maneuvers or temporary traffic flow changes due to road work. often the double yellow line has sections where one of the lines becomes dashed (in which case it is no longer a ``double yellow''), indicating to the drivers traveling on the side closest to the dashed line that they may pass when it is safe. double-yellow lines may be used to separate lanes of traffic traveling in opposite directions where passing would be dangerous, or to restrict access to lanes traveling in the same direction, such as hov and express lanes on a highway.\") \n",
      "\n",
      "('is the bank of england a private limited company', 'true', \"in 1977, the bank set up a wholly owned subsidiary called bank of england nominees limited (boen), a private limited company, with two of its hundred £1 shares issued. according to its memorandum & articles of association, its objectives are: ``to act as nominee or agent or attorney either solely or jointly with others, for any person or persons, partnership, company, corporation, government, state, organisation, sovereign, province, authority, or public body, or any group or association of them...'' bank of england nominees limited was granted an exemption by edmund dell, secretary of state for trade, from the disclosure requirements under section 27(9) of the companies act 1976, because ``it was considered undesirable that the disclosure requirements should apply to certain categories of shareholders.'' the bank of england is also protected by its royal charter status, and the official secrets act. boen is a vehicle for governments and heads of state to invest in uk companies (subject to approval from the secretary of state), providing they undertake ``not to influence the affairs of the company''. boen is no longer exempt from company law disclosure requirements. although a dormant company, dormancy does not preclude a company actively operating as a nominee shareholder. boen has two shareholders: the bank of england, and the secretary of the bank of england..\") \n",
      "\n"
     ]
    }
   ],
   "source": [
    "print(\"QAP's:\",len(qap_array),'\\n')\n",
    "for index in getRandomIndecies(len(qap_array)):\n",
    "    print(qap_array[index],'\\n')"
   ]
  },
  {
   "cell_type": "markdown",
   "metadata": {},
   "source": [
    "Creates a pickle object file of the qap's."
   ]
  },
  {
   "cell_type": "code",
   "execution_count": 14,
   "metadata": {},
   "outputs": [],
   "source": [
    "try:\n",
    "    qap_location = os.mkdir(os.path.join(os.getcwd(),\"Preprocessed_Text\"))\n",
    "except OSError:\n",
    "    None\n",
    "\n",
    "qap_location = os.path.join(os.getcwd(), \"Preprocessed_text\", \"preprocessed_text\")    \n",
    "\n",
    "file = open(qap_location, \"wb\")\n",
    "    \n",
    "pickle.dump(qap_array,file)\n",
    "\n",
    "file.close()"
   ]
  },
  {
   "cell_type": "markdown",
   "metadata": {},
   "source": [
    "Loads in the pickle object and splits the sections into questions, answers, passage."
   ]
  },
  {
   "cell_type": "code",
   "execution_count": 15,
   "metadata": {},
   "outputs": [],
   "source": [
    "questions = list()\n",
    "answers = list()\n",
    "passages = list()\n",
    "\n",
    "file = open(qap_location, \"rb\")\n",
    "\n",
    "for item in pickle.load(file):\n",
    "    questions.append(item[0])\n",
    "    answers.append(item[1])\n",
    "    passages.append(item[2])"
   ]
  },
  {
   "cell_type": "markdown",
   "metadata": {},
   "source": [
    "Ratio of true/false."
   ]
  },
  {
   "cell_type": "code",
   "execution_count": 16,
   "metadata": {},
   "outputs": [
    {
     "name": "stdout",
     "output_type": "stream",
     "text": [
      "62.27455304402615\n"
     ]
    }
   ],
   "source": [
    "counter = 0\n",
    "for item in answers:\n",
    "    if(item == 'true'):\n",
    "        counter += 1\n",
    "\n",
    "print((counter/len(qa_array))*100)"
   ]
  },
  {
   "cell_type": "markdown",
   "metadata": {},
   "source": [
    "Print seperate questions, answers, and passages."
   ]
  },
  {
   "cell_type": "code",
   "execution_count": 17,
   "metadata": {},
   "outputs": [],
   "source": [
    "indecies = getRandomIndecies(len(qap_array))"
   ]
  },
  {
   "cell_type": "markdown",
   "metadata": {},
   "source": [
    "Question"
   ]
  },
  {
   "cell_type": "code",
   "execution_count": 18,
   "metadata": {},
   "outputs": [
    {
     "name": "stdout",
     "output_type": "stream",
     "text": [
      "is 9 to 5 a 40 hour week \n",
      "\n",
      "has washington capitals ever won the stanley cup \n",
      "\n",
      "is it legal to shoot camels in australia \n",
      "\n",
      "is it ordinary time in the catholic church \n",
      "\n",
      "is a markup language designed to describe data \n",
      "\n"
     ]
    }
   ],
   "source": [
    "for index in indecies:\n",
    "    print(questions[index],'\\n')"
   ]
  },
  {
   "cell_type": "markdown",
   "metadata": {},
   "source": [
    "Answer"
   ]
  },
  {
   "cell_type": "code",
   "execution_count": 19,
   "metadata": {},
   "outputs": [
    {
     "name": "stdout",
     "output_type": "stream",
     "text": [
      "true \n",
      "\n",
      "true \n",
      "\n",
      "true \n",
      "\n",
      "true \n",
      "\n",
      "false \n",
      "\n"
     ]
    }
   ],
   "source": [
    "for index in indecies:\n",
    "    print(answers[index],'\\n')"
   ]
  },
  {
   "cell_type": "markdown",
   "metadata": {},
   "source": [
    "Passage"
   ]
  },
  {
   "cell_type": "code",
   "execution_count": 20,
   "metadata": {},
   "outputs": [
    {
     "name": "stdout",
     "output_type": "stream",
     "text": [
      "the traditional american business hours are 9:00 a.m. to 5:00 p.m., monday to friday, representing a workweek of five eight-hour days comprising 40 hours in total. these are the origin of the phrase 9-to-5, used to describe a conventional and possibly tedious job. negatively used, it connotes a tedious or unremarkable occupation. the phrase also indicates that a person is an employee, usually in a large company, rather than an entrepreneur or self-employed. more neutrally, it connotes a job with stable hours and low career risk, but still a position of subordinate employment. the actual time at work often varies between 35 and 48 hours in practice due to the inclusion, or lack of inclusion, of breaks. in many traditional white collar positions, employees were required to be in the office during these hours to take orders from the bosses, hence the relationship between this phrase and subordination. workplace hours have become more flexible, but the phrase is still commonly used. \n",
      "\n",
      "the capitals were founded in 1974 as an expansion franchise, alongside the kansas city scouts. since purchasing the team in 1999, leonsis revitalized the franchise by drafting star players such as alexander ovechkin, nicklas backstrom, mike green and braden holtby. the 2009--10 capitals won the franchise's first-ever presidents' trophy for being the team with the most points at the end of the regular season. they won it a second time in 2015--16, and did so for a third time the following season in 2016--17. in addition to eleven division titles and three presidents' trophies, the capitals have reached the stanley cup finals twice (in 1998 and 2018), winning in 2018. \n",
      "\n",
      "as well as species that can be hunted anywhere in australia, the northern territory considers many animals to be feral: arabian camels, buffaloes, banteng, cane toads, donkeys, feral cats, horses, wild dogs, feral cattle, house sparrows, pigeons, sambar deer, rusa deer, chital and turtle doves. \n",
      "\n",
      "ordinary time resumes on the monday following solemnity of pentecost, which is the sunday between 10 may and 13 june that marks the 50th day of easter. ordinary time concludes with the saturday afternoon before the first sunday of advent (27 november to 3 december). ordinary time thus always includes the entire months of july, august, september and october and most or all of june and november. in some years, ordinary time includes a portion of may, or a day or two in early december, or both. the catholic church substitutes the solemnity of our lord jesus christ the king of the universe in the place of the 34th sunday in ordinary time, the last sunday of the season. \n",
      "\n",
      "in computer text processing, a markup language is a system for annotating a document in a way that is syntactically distinguishable from the text. the idea and terminology evolved from the ``marking up'' of paper manuscripts, i.e., the revision instructions by editors, traditionally written with a blue pencil on authors' manuscripts. in digital media, this ``blue pencil instruction text'' was replaced by tags, that is, instructions are expressed directly by tags or ``instruction text encapsulated by tags.'' however the whole idea of a mark up language is to avoid the formatting work for the text, as the tags in the mark up language serve the purpose to format the appropriate text (like a header or beginning of a next para...etc.). every tag used in a markup language has a property to format the text we write. \n",
      "\n"
     ]
    }
   ],
   "source": [
    "for index in indecies:\n",
    "    print(passages[index],'\\n')"
   ]
  },
  {
   "cell_type": "markdown",
   "metadata": {},
   "source": [
    "## Tokenize"
   ]
  },
  {
   "cell_type": "markdown",
   "metadata": {},
   "source": [
    "Splits questions and passages into word tokens on the space."
   ]
  },
  {
   "cell_type": "code",
   "execution_count": 21,
   "metadata": {},
   "outputs": [],
   "source": [
    "def tokenize(lst):\n",
    "    tokenized_list = list()\n",
    "    \n",
    "    for item in lst:\n",
    "        sequence = list()\n",
    "        temp = item.split()\n",
    "        for token in temp:\n",
    "            sequence.append(token)\n",
    "        tokenized_list.append(sequence)\n",
    "        \n",
    "    return tokenized_list"
   ]
  },
  {
   "cell_type": "code",
   "execution_count": 22,
   "metadata": {},
   "outputs": [
    {
     "name": "stdout",
     "output_type": "stream",
     "text": [
      "Question\n",
      " ['do', 'iran', 'and', 'afghanistan', 'speak', 'the', 'same', 'language']\n",
      "Passage\n",
      " ['persian', '(/ˈpɜːrʒən,', '-ʃən/),', 'also', 'known', 'by', 'its', 'endonym', 'farsi', '(فارسی', 'fārsi', '(fɒːɾˈsiː)', '(', 'listen)),', 'is', 'one', 'of', 'the', 'western', 'iranian', 'languages', 'within', 'the', 'indo-iranian', 'branch', 'of', 'the', 'indo-european', 'language', 'family.', 'it', 'is', 'primarily', 'spoken', 'in', 'iran,', 'afghanistan', '(officially', 'known', 'as', 'dari', 'since', '1958),', 'and', 'tajikistan', '(officially', 'known', 'as', 'tajiki', 'since', 'the', 'soviet', 'era),', 'and', 'some', 'other', 'regions', 'which', 'historically', 'were', 'persianate', 'societies', 'and', 'considered', 'part', 'of', 'greater', 'iran.', 'it', 'is', 'written', 'in', 'the', 'persian', 'alphabet,', 'a', 'modified', 'variant', 'of', 'the', 'arabic', 'script,', 'which', 'itself', 'evolved', 'from', 'the', 'aramaic', 'alphabet.']\n"
     ]
    }
   ],
   "source": [
    "qtokenized = tokenize(questions)\n",
    "ptokenized = tokenize(passages)\n",
    "print(\"Question\\n\", qtokenized[0])\n",
    "print(\"Passage\\n\", ptokenized[0])"
   ]
  },
  {
   "cell_type": "markdown",
   "metadata": {},
   "source": [
    "Verify lengths"
   ]
  },
  {
   "cell_type": "code",
   "execution_count": 23,
   "metadata": {},
   "outputs": [
    {
     "name": "stdout",
     "output_type": "stream",
     "text": [
      "12697\n",
      "12697\n"
     ]
    }
   ],
   "source": [
    "\n",
    "print(len(qtokenized))\n",
    "print(len(ptokenized))"
   ]
  },
  {
   "cell_type": "markdown",
   "metadata": {},
   "source": [
    "Cleans tokens of punctuations and splits hyphenated words."
   ]
  },
  {
   "cell_type": "code",
   "execution_count": 24,
   "metadata": {},
   "outputs": [],
   "source": [
    "def cleanTokens(lst):\n",
    "    \n",
    "    punctuations = ['\\'','!','(',')','[',']','{','}',';',':','\"','\\\\',',','<','>','.','/','?','@','#','$','%','^','&','*','_','~','`']\n",
    "    hyphen = ['-']\n",
    "    clean_lst = list()\n",
    "    for item in lst:\n",
    "        tokens = list()\n",
    "        for token in item:\n",
    "            token_string = \"\"\n",
    "            for char in token:\n",
    "                if(char not in punctuations and char != '-'):\n",
    "                    token_string = token_string + char\n",
    "                elif(char in hyphen):\n",
    "                    tokens.append(token_string)\n",
    "                    token_string = \"\"\n",
    "            tokens.append(token_string)\n",
    "        clean_lst.append(tokens)\n",
    "    \n",
    "    return clean_lst"
   ]
  },
  {
   "cell_type": "code",
   "execution_count": 25,
   "metadata": {},
   "outputs": [
    {
     "name": "stdout",
     "output_type": "stream",
     "text": [
      "Question\n",
      " ['do', 'iran', 'and', 'afghanistan', 'speak', 'the', 'same', 'language']\n",
      "Passage\n",
      " ['persian', 'ˈpɜːrʒən', '', 'ʃən', 'also', 'known', 'by', 'its', 'endonym', 'farsi', 'فارسی', 'fārsi', 'fɒːɾˈsiː', '', 'listen', 'is', 'one', 'of', 'the', 'western', 'iranian', 'languages', 'within', 'the', 'indo', 'iranian', 'branch', 'of', 'the', 'indo', 'european', 'language', 'family', 'it', 'is', 'primarily', 'spoken', 'in', 'iran', 'afghanistan', 'officially', 'known', 'as', 'dari', 'since', '1958', 'and', 'tajikistan', 'officially', 'known', 'as', 'tajiki', 'since', 'the', 'soviet', 'era', 'and', 'some', 'other', 'regions', 'which', 'historically', 'were', 'persianate', 'societies', 'and', 'considered', 'part', 'of', 'greater', 'iran', 'it', 'is', 'written', 'in', 'the', 'persian', 'alphabet', 'a', 'modified', 'variant', 'of', 'the', 'arabic', 'script', 'which', 'itself', 'evolved', 'from', 'the', 'aramaic', 'alphabet']\n"
     ]
    }
   ],
   "source": [
    "qtokenized_clean = cleanTokens(qtokenized)\n",
    "ptokenized_clean = cleanTokens(ptokenized)\n",
    "print(\"Question\\n\", qtokenized_clean[0])\n",
    "print(\"Passage\\n\", ptokenized_clean[0])"
   ]
  },
  {
   "cell_type": "markdown",
   "metadata": {},
   "source": [
    "Verify lengths"
   ]
  },
  {
   "cell_type": "code",
   "execution_count": 26,
   "metadata": {},
   "outputs": [
    {
     "name": "stdout",
     "output_type": "stream",
     "text": [
      "12697\n",
      "12697\n"
     ]
    }
   ],
   "source": [
    "print(len(qtokenized_clean))\n",
    "print(len(ptokenized_clean))"
   ]
  },
  {
   "cell_type": "markdown",
   "metadata": {},
   "source": [
    "## Create Vocabulary"
   ]
  },
  {
   "cell_type": "markdown",
   "metadata": {},
   "source": [
    "Creates a vocabulary from the words in the token list."
   ]
  },
  {
   "cell_type": "code",
   "execution_count": 27,
   "metadata": {},
   "outputs": [],
   "source": [
    "def getVocab(lst):\n",
    "    \n",
    "    vocab = dict()\n",
    "    \n",
    "    for text in lst:\n",
    "        for token in text:\n",
    "            if(vocab.get(token,\"\") == \"\"):\n",
    "                vocab.update({token : 1})\n",
    "            else:\n",
    "                vocab[token] = vocab[token]+1\n",
    "                \n",
    "    return vocab"
   ]
  },
  {
   "cell_type": "code",
   "execution_count": 28,
   "metadata": {},
   "outputs": [
    {
     "name": "stdout",
     "output_type": "stream",
     "text": [
      "Words in questions vocab: 10507\n",
      "Words in passages vocab: 50673\n"
     ]
    }
   ],
   "source": [
    "qvocab = getVocab(qtokenized_clean)\n",
    "pvocab = getVocab(ptokenized_clean)\n",
    "print(\"Words in questions vocab:\",len(qvocab))\n",
    "print(\"Words in passages vocab:\",len(pvocab))"
   ]
  },
  {
   "cell_type": "markdown",
   "metadata": {},
   "source": [
    "Retreives statistics from the vocab(average appearance, most common, least common). Prints all vocabulary and their appearances."
   ]
  },
  {
   "cell_type": "code",
   "execution_count": 33,
   "metadata": {},
   "outputs": [],
   "source": [
    "def vocabStats(vocab,whole_vocab=False):\n",
    "    \n",
    "    vocab_array = list()\n",
    "    \n",
    "    minimum = (\"\",1000000000)\n",
    "    maximum = (\"\",0)\n",
    "    avg = 0 \n",
    "    stnd = 0 \n",
    "    \n",
    "    for word in vocab:\n",
    "        if(whole_vocab == True):\n",
    "            #print(word, vocab[word])\n",
    "        if(vocab[word] > maximum[1]):\n",
    "            maximum = (word,vocab[word])\n",
    "        if(vocab[word] < minimum[1]):\n",
    "            minimum = (word,vocab[word])\n",
    "        vocab_array.append(vocab[word])\n",
    "        \n",
    "    avg = np.mean(vocab_array)\n",
    "    stnd = np.std(vocab_array)\n",
    "    \n",
    "    print(\"Min count:\", minimum, \"Max count:\", maximum, \"Average appearance:\", avg, \"Standard Deviation:\", stnd)\n",
    "    return vocab,avg,stnd"
   ]
  },
  {
   "cell_type": "code",
   "execution_count": 35,
   "metadata": {},
   "outputs": [
    {
     "name": "stdout",
     "output_type": "stream",
     "text": [
      "Min count: ('iran', 1) Max count: ('the', 8578) Average appearance: 10.629389930522509 Standard Deviation: 136.62667831924844\n"
     ]
    }
   ],
   "source": [
    "qvocab, qavg, qstnd = vocabStats(qvocab,True)"
   ]
  },
  {
   "cell_type": "code",
   "execution_count": 36,
   "metadata": {},
   "outputs": [
    {
     "name": "stdout",
     "output_type": "stream",
     "text": [
      "Min count: ('ˈpɜːrʒən', 1) Max count: ('the', 88883) Average appearance: 23.626980837921575 Standard Deviation: 535.5165576945782\n"
     ]
    }
   ],
   "source": [
    "pvocab, pavg,  pstnd = vocabStats(pvocab,True)"
   ]
  },
  {
   "cell_type": "markdown",
   "metadata": {},
   "source": [
    "# 4B) Feature Engineering"
   ]
  },
  {
   "cell_type": "markdown",
   "metadata": {},
   "source": [
    "Removes words that appear to frequent with in n_deviations."
   ]
  },
  {
   "cell_type": "code",
   "execution_count": 28,
   "metadata": {},
   "outputs": [],
   "source": [
    "def removeErroneousVocab(vocab,avg,stnd,n_deviations=3):\n",
    "    \n",
    "    upper = avg + stnd*n_deviations\n",
    "    erroneous_words = list()\n",
    "    \n",
    "    for word in vocab:\n",
    "        if(vocab[word] >= upper):\n",
    "            erroneous_words.append(word)\n",
    "    \n",
    "    for x in range(len(erroneous_words)):\n",
    "        del vocab[erroneous_words[x]]\n",
    "\n",
    "    return vocabStats(vocab)"
   ]
  },
  {
   "cell_type": "code",
   "execution_count": 29,
   "metadata": {},
   "outputs": [
    {
     "name": "stdout",
     "output_type": "stream",
     "text": [
      "Min count: ('iran', 1) Max count: ('based', 380) Average appearance: 5.872494750906662 Standard Deviation: 18.84523128594015\n"
     ]
    }
   ],
   "source": [
    "qvocab, qavg, qstnd = removeErroneousVocab(qvocab, qavg, qstnd)"
   ]
  },
  {
   "cell_type": "code",
   "execution_count": 30,
   "metadata": {},
   "outputs": [
    {
     "name": "stdout",
     "output_type": "stream",
     "text": [
      "Min count: ('ˈpɜːrʒən', 1) Max count: ('such', 1622) Average appearance: 14.358702309683283 Standard Deviation: 59.40000367207913\n"
     ]
    }
   ],
   "source": [
    "pvocab, pavg, pstnd = removeErroneousVocab(pvocab, pavg, pstnd)"
   ]
  },
  {
   "cell_type": "markdown",
   "metadata": {},
   "source": [
    "Words in vocabularies."
   ]
  },
  {
   "cell_type": "code",
   "execution_count": 31,
   "metadata": {},
   "outputs": [
    {
     "name": "stdout",
     "output_type": "stream",
     "text": [
      "10478\n",
      "50613\n"
     ]
    }
   ],
   "source": [
    "print(len(qvocab))\n",
    "print(len(pvocab))"
   ]
  },
  {
   "cell_type": "markdown",
   "metadata": {},
   "source": [
    "Creates one vocabulary by appending words not in the larger from the smaller."
   ]
  },
  {
   "cell_type": "code",
   "execution_count": 32,
   "metadata": {},
   "outputs": [],
   "source": [
    "def unifyVocab(avocab, bvocab):\n",
    "    large_vocab = avocab if len(avocab) > len(bvocab) else bvocab\n",
    "    small_vocab = bvocab if len(bvocab) < len(large_vocab) else avocab\n",
    "    for word in small_vocab:\n",
    "        if(large_vocab.get(word,\"\") == \"\"):\n",
    "            large_vocab.update({word : small_vocab[word]})\n",
    "        \n",
    "    return large_vocab"
   ]
  },
  {
   "cell_type": "code",
   "execution_count": 33,
   "metadata": {},
   "outputs": [],
   "source": [
    "vocab = unifyVocab(qvocab, pvocab)"
   ]
  },
  {
   "cell_type": "markdown",
   "metadata": {},
   "source": [
    "Total vocabulary"
   ]
  },
  {
   "cell_type": "code",
   "execution_count": 34,
   "metadata": {},
   "outputs": [
    {
     "name": "stdout",
     "output_type": "stream",
     "text": [
      "51162\n"
     ]
    }
   ],
   "source": [
    "print(len(vocab))"
   ]
  },
  {
   "cell_type": "markdown",
   "metadata": {},
   "source": [
    "Removes words in tokenized sequences that are no longer in the vocabulary."
   ]
  },
  {
   "cell_type": "code",
   "execution_count": 35,
   "metadata": {},
   "outputs": [],
   "source": [
    "def fitVocab(lst,vocab):\n",
    "    tokenized_list = list()\n",
    "    \n",
    "    for item in lst:\n",
    "        sequence = list()\n",
    "        for token in item:\n",
    "            if(vocab.get(token,\"\") != \"\"):\n",
    "                sequence.append(token)\n",
    "        tokenized_list.append(sequence)\n",
    "        \n",
    "    return tokenized_list"
   ]
  },
  {
   "cell_type": "code",
   "execution_count": 36,
   "metadata": {},
   "outputs": [
    {
     "name": "stdout",
     "output_type": "stream",
     "text": [
      "Question\n",
      " [['do', 'iran', 'afghanistan', 'speak', 'same', 'language'], ['do', 'good', 'samaritan', 'laws', 'protect', 'those', 'who', 'help', 'at', 'accident'], ['windows', 'movie', 'maker', 'part', 'windows', 'essentials'], ['confectionary', 'sugar', 'same', 'powdered', 'sugar'], ['elder', 'scrolls', 'online', 'same', 'skyrim']]\n",
      "Passage\n",
      " [['persian', 'ˈpɜːrʒən', '', 'ʃən', 'also', 'known', 'by', 'its', 'endonym', 'farsi', 'فارسی', 'fārsi', 'fɒːɾˈsiː', '', 'listen', 'one', 'western', 'iranian', 'languages', 'within', 'indo', 'iranian', 'branch', 'indo', 'european', 'language', 'family', 'primarily', 'spoken', 'iran', 'afghanistan', 'officially', 'known', 'dari', 'since', '1958', 'tajikistan', 'officially', 'known', 'tajiki', 'since', 'soviet', 'era', 'some', 'other', 'regions', 'which', 'historically', 'were', 'persianate', 'societies', 'considered', 'part', 'greater', 'iran', 'written', 'persian', 'alphabet', 'modified', 'variant', 'arabic', 'script', 'which', 'itself', 'evolved', 'from', 'aramaic', 'alphabet'], ['good', 'samaritan', 'laws', 'offer', 'legal', 'protection', 'people', 'who', 'give', 'reasonable', 'assistance', 'those', 'who', 'or', 'who', 'they', 'believe', 'injured', 'ill', 'peril', 'or', 'otherwise', 'incapacitated', 'protection', 'intended', 'reduce', 'bystanders', 'hesitation', 'assist', 'fear', 'being', 'sued', 'or', 'prosecuted', 'unintentional', 'injury', 'or', 'wrongful', 'death', 'example', 'such', 'law', 'common', 'law', 'areas', 'canada', 'good', 'samaritan', 'doctrine', 'legal', 'principle', 'that', 'prevents', 'rescuer', 'who', 'voluntarily', 'helped', 'victim', 'distress', 'from', 'being', 'successfully', 'sued', 'wrongdoing', 'its', 'purpose', 'keep', 'people', 'from', 'being', 'reluctant', 'help', 'stranger', 'need', 'fear', 'legal', 'repercussions', 'should', 'they', 'make', 'some', 'mistake', 'treatment', 'by', 'contrast', 'duty', 'rescue', 'law', 'requires', 'people', 'offer', 'assistance', 'holds', 'those', 'who', 'fail', 'do', 'so', 'liable'], ['windows', 'movie', 'maker', 'formerly', 'known', 'windows', 'live', 'movie', 'maker', 'windows', '7', 'discontinued', 'video', 'editing', 'software', 'by', 'microsoft', 'part', 'windows', 'essentials', 'software', 'suite', 'offers', 'ability', 'create', 'edit', 'videos', 'well', 'publish', 'them', 'onedrive', 'facebook', 'vimeo', 'youtube', 'flickr'], ['powdered', 'sugar', 'also', 'called', 'confectioners', 'sugar', 'icing', 'sugar', 'icing', 'cake', 'finely', 'ground', 'sugar', 'produced', 'by', 'milling', 'granulated', 'sugar', 'into', 'powdered', 'state', 'usually', 'contains', 'small', 'amount', 'anti', 'caking', 'agent', 'prevent', 'clumping', 'improve', 'flow', 'although', 'most', 'often', 'produced', 'factory', 'powdered', 'sugar', 'also', 'made', 'by', 'processing', 'ordinary', 'granulated', 'sugar', 'coffee', 'grinder', 'or', 'by', 'crushing', 'by', 'hand', 'mortar', 'pestle'], ['with', 'other', 'games', 'elder', 'scrolls', 'series', 'game', 'set', 'continent', 'tamriel', 'events', 'game', 'occur', 'millennium', 'before', 'those', 'elder', 'scrolls', 'v', 'skyrim', 'around', '800', 'years', 'before', 'elder', 'scrolls', 'iii', 'morrowind', 'elder', 'scrolls', 'iv', 'oblivion', 'broadly', 'similar', 'structure', 'skyrim', 'with', 'two', 'separate', 'conflicts', 'progressing', 'at', 'same', 'time', 'one', 'with', 'fate', 'balance', 'one', 'where', 'prize', 'supreme', 'power', 'tamriel', 'elder', 'scrolls', 'online', 'first', 'struggle', 'against', 'daedric', 'prince', 'molag', 'bal', 'who', 'attempting', 'meld', 'plane', 'mundus', 'with', 'his', 'realm', 'coldharbour', 'second', 'capture', 'vacant', 'imperial', 'throne', 'contested', 'by', 'three', 'alliances', 'mortal', 'races', 'player', 'character', 'been', 'sacrificed', 'molag', 'bal', 'molag', 'bal', 'stolen', 'their', 'soul', 'recovery', 'which', 'primary', 'game', 'objective']]\n"
     ]
    }
   ],
   "source": [
    "qvocab_tokens = fitVocab(qtokenized_clean,vocab)\n",
    "pvocab_tokens = fitVocab(ptokenized_clean,vocab)\n",
    "print(\"Question\\n\", qvocab_tokens[:5])\n",
    "print(\"Passage\\n\", pvocab_tokens[:5])"
   ]
  },
  {
   "cell_type": "markdown",
   "metadata": {},
   "source": [
    "Verify lengths"
   ]
  },
  {
   "cell_type": "code",
   "execution_count": 37,
   "metadata": {},
   "outputs": [
    {
     "name": "stdout",
     "output_type": "stream",
     "text": [
      "12697\n",
      "12697\n"
     ]
    }
   ],
   "source": [
    "print(len(qvocab_tokens))\n",
    "print(len(pvocab_tokens))"
   ]
  },
  {
   "cell_type": "markdown",
   "metadata": {},
   "source": [
    "Retreives statistics on lengths of tokenized sequences."
   ]
  },
  {
   "cell_type": "code",
   "execution_count": 38,
   "metadata": {},
   "outputs": [],
   "source": [
    "def sequenceLenStats(sequences,quantile_ranges=[0.0,0.25,0.50,0.75,1.0]):\n",
    "    avg = 0\n",
    "    sequence_lens = list()\n",
    "    \n",
    "    for sequence in sequences:\n",
    "        avg += len(sequence)\n",
    "        sequence_lens.append(len(sequence))\n",
    "    \n",
    "    avg = avg/len(sequences)\n",
    "    print(\"Avg:\", avg)\n",
    "\n",
    "    print(\"Quantiles:\", np.quantile(sequence_lens,quantile_ranges))"
   ]
  },
  {
   "cell_type": "code",
   "execution_count": 39,
   "metadata": {},
   "outputs": [
    {
     "name": "stdout",
     "output_type": "stream",
     "text": [
      "Avg: 5.560919902339135\n",
      "Quantiles: [ 3.  5.  5.  6. 15.]\n",
      "Avg: 67.45766716547216\n",
      "Quantiles: [  3.  40.  60.  85. 562.]\n"
     ]
    }
   ],
   "source": [
    "sequenceLenStats(qvocab_tokens)\n",
    "sequenceLenStats(pvocab_tokens)"
   ]
  },
  {
   "cell_type": "code",
   "execution_count": 40,
   "metadata": {},
   "outputs": [
    {
     "name": "stdout",
     "output_type": "stream",
     "text": [
      "Avg: 5.560919902339135\n",
      "Quantiles: [ 6.  7.  7.  8. 15.]\n",
      "Avg: 67.45766716547216\n",
      "Quantiles: [ 92. 102. 115. 140. 562.]\n"
     ]
    }
   ],
   "source": [
    "sequenceLenStats(qvocab_tokens,[0.80, 0.85, 0.90, 0.95, 1.0])\n",
    "sequenceLenStats(pvocab_tokens,[0.80, 0.85, 0.90, 0.95, 1.0])"
   ]
  },
  {
   "cell_type": "markdown",
   "metadata": {},
   "source": [
    "Truncates and pads sequences to a uniform lenght."
   ]
  },
  {
   "cell_type": "code",
   "execution_count": 41,
   "metadata": {},
   "outputs": [],
   "source": [
    "def padSequences(sequences,pad_size):\n",
    "    \n",
    "    even_sequences = list()\n",
    "    \n",
    "    for x,sequence in enumerate(sequences):\n",
    "        if(len(sequence) >= pad_size):\n",
    "            even_sequences.append(sequence[:pad_size])\n",
    "        elif (len(sequence) < pad_size):\n",
    "            amount_padding = pad_size - len(sequence)\n",
    "            padding = list()\n",
    "            for x in range(amount_padding):\n",
    "                padding.append(\"%PAD%\")\n",
    "            even_sequences.append(sequence + padding)\n",
    "        \n",
    "    return even_sequences"
   ]
  },
  {
   "cell_type": "code",
   "execution_count": 42,
   "metadata": {},
   "outputs": [
    {
     "name": "stdout",
     "output_type": "stream",
     "text": [
      "['federal', 'court', 'same', 'supreme', 'court', '%PAD%', '%PAD%', '%PAD%', '%PAD%', '%PAD%', '%PAD%', '%PAD%', '%PAD%', '%PAD%', '%PAD%']\n",
      "['federal', 'courts', 'composed', 'three', 'levels', 'courts', 'supreme', 'court', 'united', 'states', 'court', 'last', 'resort', 'generally', 'appellate', 'court', 'that', 'operates', 'under', 'discretionary', 'review', 'which', 'means', 'that', 'court', 'choose', 'which', 'cases', 'hear', 'by', 'granting', 'writs', 'certiorari', 'there', 'therefore', 'generally', 'no', 'basic', 'right', 'appeal', 'that', 'extends', 'automatically', 'all', 'way', 'supreme', 'court', 'few', 'situations', 'like', 'lawsuits', 'between', 'state', 'governments', 'or', 'some', 'cases', 'between', 'federal', 'government', 'state', 'sits', 'court', 'original', 'jurisdiction', '%PAD%', '%PAD%', '%PAD%', '%PAD%', '%PAD%', '%PAD%', '%PAD%', '%PAD%', '%PAD%', '%PAD%', '%PAD%', '%PAD%', '%PAD%', '%PAD%', '%PAD%', '%PAD%', '%PAD%', '%PAD%', '%PAD%', '%PAD%', '%PAD%', '%PAD%', '%PAD%', '%PAD%', '%PAD%', '%PAD%', '%PAD%', '%PAD%', '%PAD%', '%PAD%', '%PAD%', '%PAD%', '%PAD%', '%PAD%', '%PAD%', '%PAD%', '%PAD%', '%PAD%', '%PAD%', '%PAD%', '%PAD%', '%PAD%', '%PAD%', '%PAD%', '%PAD%', '%PAD%', '%PAD%', '%PAD%', '%PAD%', '%PAD%']\n"
     ]
    }
   ],
   "source": [
    "qpadded = padSequences(qvocab_tokens,15)\n",
    "ppadded = padSequences(pvocab_tokens, 115)\n",
    "print(qpadded[7])\n",
    "print(ppadded[7])"
   ]
  },
  {
   "cell_type": "markdown",
   "metadata": {},
   "source": [
    "Verify lengths"
   ]
  },
  {
   "cell_type": "code",
   "execution_count": 43,
   "metadata": {},
   "outputs": [
    {
     "name": "stdout",
     "output_type": "stream",
     "text": [
      "12697\n",
      "12697\n"
     ]
    }
   ],
   "source": [
    "print(len(qpadded))\n",
    "print(len(ppadded))"
   ]
  },
  {
   "cell_type": "markdown",
   "metadata": {},
   "source": [
    "## Vectorize"
   ]
  },
  {
   "cell_type": "markdown",
   "metadata": {},
   "source": [
    "From a custom glove file token vector representations are collected, vectors are 300D."
   ]
  },
  {
   "cell_type": "code",
   "execution_count": 44,
   "metadata": {},
   "outputs": [
    {
     "name": "stdout",
     "output_type": "stream",
     "text": [
      "47787\n",
      "300\n"
     ]
    }
   ],
   "source": [
    "glove_path = os.path.join(os.getcwd(),\"newGlove.txt\")\n",
    "\n",
    "embeddings = {}\n",
    "\n",
    "with open(glove_path, 'r', encoding=\"utf-8\") as file:\n",
    "        for line in file:\n",
    "            embedding = line[:-1].split(' ')\n",
    "            token = embedding[0].lower()\n",
    "            vector = [float(number) for number in embedding[1:]]\n",
    "            embeddings.update({token : vector})\n",
    "\n",
    "print(len(embeddings))\n",
    "print(len(embeddings['based']))"
   ]
  },
  {
   "cell_type": "markdown",
   "metadata": {},
   "source": [
    "Removes words that have no glove vector."
   ]
  },
  {
   "cell_type": "code",
   "execution_count": 45,
   "metadata": {},
   "outputs": [],
   "source": [
    "def removeOOV(vocb,embedding_vocb):\n",
    "    OOVs = list()\n",
    "    for word in vocb:\n",
    "        if(embedding_vocb.get(word,\"\") == \"\"):\n",
    "            OOVs.append(word)\n",
    "    file = open(os.path.join(os.getcwd(),\"words.txt\"), 'w', encoding=\"utf-8\")\n",
    "    for word in OOVs:\n",
    "        file.write(word + '\\n')\n",
    "        del vocb[word]"
   ]
  },
  {
   "cell_type": "code",
   "execution_count": 46,
   "metadata": {},
   "outputs": [],
   "source": [
    "removeOOV(vocab,embeddings)"
   ]
  },
  {
   "cell_type": "markdown",
   "metadata": {},
   "source": [
    "New length of vocab."
   ]
  },
  {
   "cell_type": "code",
   "execution_count": 47,
   "metadata": {},
   "outputs": [
    {
     "name": "stdout",
     "output_type": "stream",
     "text": [
      "46160\n"
     ]
    }
   ],
   "source": [
    "print(len(vocab))"
   ]
  },
  {
   "cell_type": "markdown",
   "metadata": {},
   "source": [
    "Creates a dictornay mapping vocab to token vectors."
   ]
  },
  {
   "cell_type": "code",
   "execution_count": 48,
   "metadata": {},
   "outputs": [],
   "source": [
    "def embedVocab(vocb,embedding_vocb):\n",
    "    embedded_vocab = dict()\n",
    "    \n",
    "    for word in vocb:\n",
    "        if(embedding_vocb.get(word,\"\") != \"\"):\n",
    "            embedded_vocab.update({word : embedding_vocb[word]})\n",
    "    \n",
    "    return embedded_vocab"
   ]
  },
  {
   "cell_type": "code",
   "execution_count": 50,
   "metadata": {},
   "outputs": [],
   "source": [
    "embedded_vocab = embedVocab(vocab,embeddings)"
   ]
  },
  {
   "cell_type": "markdown",
   "metadata": {},
   "source": [
    "Adds padding token to vocab."
   ]
  },
  {
   "cell_type": "code",
   "execution_count": 51,
   "metadata": {},
   "outputs": [],
   "source": [
    "embedded_vocab.update({\"%PAD%\" : []})"
   ]
  },
  {
   "cell_type": "markdown",
   "metadata": {},
   "source": [
    "Removes any tokens that are not in the vectorized vocab."
   ]
  },
  {
   "cell_type": "code",
   "execution_count": 52,
   "metadata": {},
   "outputs": [],
   "source": [
    "def OOVToken(token_list,emb_vocb):\n",
    "    full_tokenized = list()\n",
    "    for item in token_list:\n",
    "        items = list()\n",
    "        for x,token in enumerate(item):\n",
    "            if(emb_vocb.get(token,\"\") == \"\"):\n",
    "                items.append(\"%OOV%\")\n",
    "            else:\n",
    "                items.append(token)\n",
    "        full_tokenized.append(items)\n",
    "        \n",
    "    return full_tokenized"
   ]
  },
  {
   "cell_type": "code",
   "execution_count": 53,
   "metadata": {
    "scrolled": true
   },
   "outputs": [
    {
     "name": "stdout",
     "output_type": "stream",
     "text": [
      "['do', 'iran', 'afghanistan', 'speak', 'same', 'language', '%PAD%', '%PAD%', '%PAD%', '%PAD%', '%PAD%', '%PAD%', '%PAD%', '%PAD%', '%PAD%']\n",
      "['persian', '%OOV%', '%OOV%', 'ʃən', 'also', 'known', 'by', 'its', 'endonym', 'farsi', '%OOV%', '%OOV%', '%OOV%', '%OOV%', 'listen', 'one', 'western', 'iranian', 'languages', 'within', '%OOV%', 'iranian', 'branch', '%OOV%', 'european', 'language', 'family', 'primarily', 'spoken', 'iran', 'afghanistan', 'officially', 'known', 'dari', 'since', '1958', 'tajikistan', 'officially', 'known', 'tajiki', 'since', 'soviet', 'era', 'some', 'other', 'regions', 'which', 'historically', 'were', 'persianate', 'societies', 'considered', 'part', 'greater', 'iran', 'written', 'persian', 'alphabet', 'modified', 'variant', 'arabic', 'script', 'which', 'itself', 'evolved', 'from', 'aramaic', 'alphabet', '%PAD%', '%PAD%', '%PAD%', '%PAD%', '%PAD%', '%PAD%', '%PAD%', '%PAD%', '%PAD%', '%PAD%', '%PAD%', '%PAD%', '%PAD%', '%PAD%', '%PAD%', '%PAD%', '%PAD%', '%PAD%', '%PAD%', '%PAD%', '%PAD%', '%PAD%', '%PAD%', '%PAD%', '%PAD%', '%PAD%', '%PAD%', '%PAD%', '%PAD%', '%PAD%', '%PAD%', '%PAD%', '%PAD%', '%PAD%', '%PAD%', '%PAD%', '%PAD%', '%PAD%', '%PAD%', '%PAD%', '%PAD%', '%PAD%', '%PAD%', '%PAD%', '%PAD%', '%PAD%', '%PAD%']\n"
     ]
    }
   ],
   "source": [
    "qfull_tokenized = OOVToken(qpadded,embedded_vocab)\n",
    "pfull_tokenized = OOVToken(ppadded,embedded_vocab)\n",
    "print(qfull_tokenized[0])\n",
    "print(pfull_tokenized[0])"
   ]
  },
  {
   "cell_type": "markdown",
   "metadata": {},
   "source": [
    "Removes padding from vectorized vocab."
   ]
  },
  {
   "cell_type": "code",
   "execution_count": 54,
   "metadata": {},
   "outputs": [],
   "source": [
    "del embedded_vocab[\"%PAD%\"]"
   ]
  },
  {
   "cell_type": "markdown",
   "metadata": {},
   "source": [
    "Verify lengths"
   ]
  },
  {
   "cell_type": "code",
   "execution_count": 55,
   "metadata": {},
   "outputs": [
    {
     "name": "stdout",
     "output_type": "stream",
     "text": [
      "12697\n",
      "12697\n"
     ]
    }
   ],
   "source": [
    "print(len(qfull_tokenized))\n",
    "print(len(pfull_tokenized))"
   ]
  },
  {
   "cell_type": "markdown",
   "metadata": {},
   "source": [
    "Creates a token to index encoder and decoder."
   ]
  },
  {
   "cell_type": "code",
   "execution_count": 56,
   "metadata": {},
   "outputs": [],
   "source": [
    "def getEnDecoder(vocab):\n",
    "    encode = {}\n",
    "    encode.update({\"%PAD%\" : 0})\n",
    "    encode.update({\"%OOV%\" : 1})\n",
    "    \n",
    "    decode = {}\n",
    "    decode.update({0 :\"%PAD%\"})\n",
    "    decode.update({1 :\"%OOV%\"})\n",
    "    \n",
    "    counter = 2\n",
    "    \n",
    "    for token in vocab:\n",
    "        if(vocab.get(token,\"\") != \"\"):\n",
    "            encode.update({token : counter})\n",
    "            decode.update({counter : token})\n",
    "            counter = counter + 1\n",
    "            \n",
    "    return encode,decode"
   ]
  },
  {
   "cell_type": "code",
   "execution_count": 57,
   "metadata": {},
   "outputs": [
    {
     "name": "stdout",
     "output_type": "stream",
     "text": [
      "2\n"
     ]
    }
   ],
   "source": [
    "encoder, decoder = getEnDecoder(embedded_vocab)\n",
    "print(encoder['persian'])"
   ]
  },
  {
   "cell_type": "markdown",
   "metadata": {},
   "source": [
    "Encodes the tokens to an index."
   ]
  },
  {
   "cell_type": "code",
   "execution_count": 58,
   "metadata": {},
   "outputs": [],
   "source": [
    "def encode(token_list,token_encode):\n",
    "    encoded_tokens = list()\n",
    "    for item in token_list:\n",
    "        tokens = list()\n",
    "        for token in item:\n",
    "            tokens.append(token_encode[token])\n",
    "        encoded_tokens.append(tokens)\n",
    "    return encoded_tokens"
   ]
  },
  {
   "cell_type": "code",
   "execution_count": 59,
   "metadata": {},
   "outputs": [],
   "source": [
    "q_encoded = encode(qfull_tokenized,encoder)\n",
    "p_encoded = encode(pfull_tokenized,encoder)"
   ]
  },
  {
   "cell_type": "code",
   "execution_count": 60,
   "metadata": {},
   "outputs": [
    {
     "name": "stdout",
     "output_type": "stream",
     "text": [
      "[108, 18, 19, 4525, 197, 14, 0, 0, 0, 0, 0, 0, 0, 0, 0]\n",
      "[2, 1, 1, 3, 45729, 4, 45688, 45675, 5, 6, 1, 1, 1, 1, 7, 45684, 8, 9, 10, 11, 1, 9, 12, 1, 13, 14, 15, 16, 17, 18, 19, 20, 4, 21, 22, 23, 24, 20, 4, 25, 22, 26, 27, 28, 45691, 29, 45765, 30, 45708, 31, 32, 33, 34, 35, 18, 36, 2, 37, 38, 39, 40, 41, 45765, 42, 43, 45695, 44, 37, 0, 0, 0, 0, 0, 0, 0, 0, 0, 0, 0, 0, 0, 0, 0, 0, 0, 0, 0, 0, 0, 0, 0, 0, 0, 0, 0, 0, 0, 0, 0, 0, 0, 0, 0, 0, 0, 0, 0, 0, 0, 0, 0, 0, 0, 0, 0]\n"
     ]
    }
   ],
   "source": [
    "print(q_encoded[0])\n",
    "print(p_encoded[0])"
   ]
  },
  {
   "cell_type": "code",
   "execution_count": 61,
   "metadata": {},
   "outputs": [
    {
     "data": {
      "text/plain": [
       "[-0.9858,\n",
       " -0.14762,\n",
       " 0.081798,\n",
       " 0.50556,\n",
       " 0.05008,\n",
       " -0.42088,\n",
       " -0.56573,\n",
       " 0.080487,\n",
       " -0.12321,\n",
       " -2.2822,\n",
       " 0.26426,\n",
       " 0.57303,\n",
       " -0.53817,\n",
       " 0.082961,\n",
       " 0.21784,\n",
       " -0.52277,\n",
       " 0.045502,\n",
       " -0.58352,\n",
       " -0.31634,\n",
       " -0.16498,\n",
       " -0.23993,\n",
       " -0.18049,\n",
       " 0.4507,\n",
       " 1.0322,\n",
       " 0.27642,\n",
       " -0.6767,\n",
       " -0.38467,\n",
       " 1.0391,\n",
       " -0.71155,\n",
       " -0.25112,\n",
       " 0.26448,\n",
       " 0.27055,\n",
       " -0.25675,\n",
       " -0.50855,\n",
       " -0.75756,\n",
       " -0.12944,\n",
       " 0.23953,\n",
       " -0.65389,\n",
       " -0.75671,\n",
       " 0.027501,\n",
       " 0.060991,\n",
       " -0.41533,\n",
       " 1.1896,\n",
       " -0.38511,\n",
       " 1.2409,\n",
       " -0.049963,\n",
       " 0.54063,\n",
       " -0.14236,\n",
       " 0.070983,\n",
       " 0.082033,\n",
       " -0.69111,\n",
       " -0.56341,\n",
       " -0.39009,\n",
       " -0.26512,\n",
       " -0.038484,\n",
       " 0.79199,\n",
       " -0.45811,\n",
       " -0.46189,\n",
       " 0.040732,\n",
       " 1.3296,\n",
       " -0.098869,\n",
       " -0.16434,\n",
       " -0.1648,\n",
       " 0.18835,\n",
       " 0.068039,\n",
       " -0.46432,\n",
       " -0.07182,\n",
       " 0.56139,\n",
       " 0.37273,\n",
       " 0.70266,\n",
       " -0.36894,\n",
       " 0.11418,\n",
       " -0.33582,\n",
       " -0.15401,\n",
       " 0.14426,\n",
       " 0.27741,\n",
       " 0.16022,\n",
       " -0.19088,\n",
       " 0.25966,\n",
       " 0.17602,\n",
       " 0.70808,\n",
       " 0.022331,\n",
       " 0.33229,\n",
       " 0.11386,\n",
       " -0.10353,\n",
       " -0.38201,\n",
       " 0.1771,\n",
       " -0.95576,\n",
       " 0.24083,\n",
       " -0.71662,\n",
       " 0.13871,\n",
       " 0.22553,\n",
       " -0.013145,\n",
       " -0.18364,\n",
       " -0.31348,\n",
       " 0.13667,\n",
       " 0.22122,\n",
       " 0.33171,\n",
       " -0.27611,\n",
       " -0.034805,\n",
       " 0.11859,\n",
       " 0.74038,\n",
       " 0.57116,\n",
       " -0.26989,\n",
       " 0.70755,\n",
       " 0.12693,\n",
       " 0.072888,\n",
       " -0.072842,\n",
       " 0.2806,\n",
       " -0.17876,\n",
       " -0.29576,\n",
       " 0.80464,\n",
       " 1.3211,\n",
       " 0.04095,\n",
       " -0.38375,\n",
       " 0.155,\n",
       " -0.13225,\n",
       " 0.13522,\n",
       " 0.86642,\n",
       " -0.71576,\n",
       " -0.12339,\n",
       " 0.74649,\n",
       " 0.63446,\n",
       " -0.1283,\n",
       " 0.15946,\n",
       " 0.63867,\n",
       " 0.90847,\n",
       " 0.13533,\n",
       " 0.17227,\n",
       " 0.10679,\n",
       " 0.34985,\n",
       " -0.11197,\n",
       " 0.062748,\n",
       " -0.64761,\n",
       " -1.1544,\n",
       " -0.39797,\n",
       " 0.99986,\n",
       " 0.46309,\n",
       " 0.35153,\n",
       " -0.30278,\n",
       " 0.057202,\n",
       " 0.37053,\n",
       " -0.19396,\n",
       " 0.90627,\n",
       " 0.17097,\n",
       " -0.096973,\n",
       " 0.37896,\n",
       " -0.36863,\n",
       " -0.08554,\n",
       " 0.078884,\n",
       " 0.30861,\n",
       " 1.3617,\n",
       " -0.45735,\n",
       " 0.29727,\n",
       " -0.015139,\n",
       " -0.39182,\n",
       " -0.025059,\n",
       " -0.35836,\n",
       " -0.35279,\n",
       " 0.51849,\n",
       " 0.21173,\n",
       " -0.43289,\n",
       " -0.069404,\n",
       " -0.36122,\n",
       " 0.31966,\n",
       " 0.39029,\n",
       " -0.22459,\n",
       " -0.58758,\n",
       " 0.076526,\n",
       " -0.28535,\n",
       " -0.83701,\n",
       " -0.85703,\n",
       " -0.21744,\n",
       " -0.68233,\n",
       " -0.084782,\n",
       " 0.095615,\n",
       " -0.095666,\n",
       " 0.72693,\n",
       " -0.052869,\n",
       " 0.14209,\n",
       " -0.61973,\n",
       " -0.38883,\n",
       " -0.15064,\n",
       " 0.34114,\n",
       " 0.10113,\n",
       " -0.10645,\n",
       " 0.090666,\n",
       " -0.59499,\n",
       " 0.17979,\n",
       " -0.28828,\n",
       " 0.60771,\n",
       " -0.093944,\n",
       " -0.029984,\n",
       " -0.30522,\n",
       " 0.79965,\n",
       " -0.8082,\n",
       " 0.63292,\n",
       " -0.70133,\n",
       " -0.17526,\n",
       " -0.083114,\n",
       " 0.42453,\n",
       " 1.5541,\n",
       " 0.22203,\n",
       " -0.38249,\n",
       " 0.12956,\n",
       " -0.46626,\n",
       " 0.33407,\n",
       " -0.002298,\n",
       " -0.22284,\n",
       " 0.51716,\n",
       " -0.6183,\n",
       " -0.30567,\n",
       " -0.43537,\n",
       " 0.00028348,\n",
       " 0.1902,\n",
       " 0.088829,\n",
       " 0.38505,\n",
       " -1.0143,\n",
       " 0.090168,\n",
       " 0.21379,\n",
       " 0.61516,\n",
       " -0.23451,\n",
       " 0.30345,\n",
       " -0.48482,\n",
       " -0.23724,\n",
       " 0.53638,\n",
       " -0.057716,\n",
       " 0.87575,\n",
       " -0.069743,\n",
       " -0.17717,\n",
       " 0.11068,\n",
       " 0.15775,\n",
       " 0.64054,\n",
       " -0.32566,\n",
       " 0.58325,\n",
       " -0.15398,\n",
       " -0.71467,\n",
       " -0.77741,\n",
       " 0.57249,\n",
       " -0.86553,\n",
       " -0.032895,\n",
       " 0.0035336,\n",
       " 0.72165,\n",
       " 0.32071,\n",
       " -0.45286,\n",
       " 0.39807,\n",
       " 0.22351,\n",
       " 0.52796,\n",
       " 0.15327,\n",
       " -0.48763,\n",
       " 0.56723,\n",
       " 0.44379,\n",
       " 0.52116,\n",
       " 0.20521,\n",
       " 0.22866,\n",
       " -0.17549,\n",
       " 0.62927,\n",
       " 0.33514,\n",
       " -0.35449,\n",
       " 0.36211,\n",
       " -0.0035323,\n",
       " -0.14105,\n",
       " 0.54354,\n",
       " 0.035563,\n",
       " -0.14376,\n",
       " 0.2787,\n",
       " 0.6907,\n",
       " -0.18855,\n",
       " 0.29851,\n",
       " -0.20082,\n",
       " -0.88201,\n",
       " 0.48326,\n",
       " -0.078565,\n",
       " -0.66255,\n",
       " -0.069378,\n",
       " -0.53108,\n",
       " 0.28254,\n",
       " 0.28066,\n",
       " -0.34004,\n",
       " -0.39667,\n",
       " 0.13236,\n",
       " -0.65532,\n",
       " 0.0067503,\n",
       " -0.43435,\n",
       " -0.25979,\n",
       " 0.75427,\n",
       " 0.30886,\n",
       " 0.10145,\n",
       " 0.017463,\n",
       " 0.59246,\n",
       " 0.56623,\n",
       " 0.044578,\n",
       " -0.38438,\n",
       " 0.11453,\n",
       " -0.33762,\n",
       " 0.76069,\n",
       " -0.88673,\n",
       " 0.46715,\n",
       " -0.37285,\n",
       " -0.1792]"
      ]
     },
     "execution_count": 61,
     "metadata": {},
     "output_type": "execute_result"
    }
   ],
   "source": [
    "embedded_vocab['persian']"
   ]
  },
  {
   "cell_type": "markdown",
   "metadata": {},
   "source": [
    "## Embbeding"
   ]
  },
  {
   "cell_type": "markdown",
   "metadata": {},
   "source": [
    "Creates an embedding matrix of encoded token to vectorized embedded representation."
   ]
  },
  {
   "cell_type": "code",
   "execution_count": 62,
   "metadata": {},
   "outputs": [],
   "source": [
    "def embeddingMatrix(ebed_vocab,encoder):\n",
    "    word_count = 0\n",
    "    for word in ebed_vocab:\n",
    "        word_count += 1\n",
    "    embedding_matrix = np.random.random((word_count, len(ebed_vocab['persian'])))\n",
    "    for x,word in enumerate(ebed_vocab):\n",
    "        embedding_matrix[x] = np.asarray(ebed_vocab[word])\n",
    "\n",
    "    return embedding_matrix"
   ]
  },
  {
   "cell_type": "code",
   "execution_count": 63,
   "metadata": {},
   "outputs": [],
   "source": [
    "embedding_matrix = embeddingMatrix(embedded_vocab,encoder)"
   ]
  },
  {
   "cell_type": "code",
   "execution_count": 64,
   "metadata": {},
   "outputs": [],
   "source": [
    "embedding_matrix = np.array(embedding_matrix)"
   ]
  },
  {
   "cell_type": "code",
   "execution_count": 65,
   "metadata": {},
   "outputs": [
    {
     "name": "stdout",
     "output_type": "stream",
     "text": [
      "(46160, 300)\n"
     ]
    }
   ],
   "source": [
    "print(embedding_matrix.shape)"
   ]
  },
  {
   "cell_type": "markdown",
   "metadata": {},
   "source": [
    "#  5) Baseline"
   ]
  },
  {
   "cell_type": "markdown",
   "metadata": {},
   "source": [
    "The baseline we tested against was that of the majority-baseline: 62%. This was achieved by the researchers training BERT (Bidirectional Encoder Representations from Transformers, a state-of-the-art NLP model) on MultiNLI (Multi-Genre Natural Language Inference, an NYU spsonored collection of sentence pairs). "
   ]
  },
  {
   "cell_type": "markdown",
   "metadata": {},
   "source": [
    "Random guessing baseline was 62.27 %"
   ]
  },
  {
   "cell_type": "markdown",
   "metadata": {},
   "source": [
    "Assigns values to true/false labels."
   ]
  },
  {
   "cell_type": "code",
   "execution_count": 66,
   "metadata": {},
   "outputs": [],
   "source": [
    "y = list()\n",
    "for answer in answers:\n",
    "    if(answer == 'true'):\n",
    "        y.append(1)\n",
    "    elif(answer == 'false'):\n",
    "        y.append(0)"
   ]
  },
  {
   "cell_type": "markdown",
   "metadata": {},
   "source": [
    "Creates tfidf vectors for the non engineered sequences."
   ]
  },
  {
   "cell_type": "markdown",
   "metadata": {},
   "source": [
    "Questions"
   ]
  },
  {
   "cell_type": "code",
   "execution_count": 67,
   "metadata": {},
   "outputs": [
    {
     "data": {
      "text/plain": [
       "TfidfVectorizer(analyzer='word', binary=False, decode_error='strict',\n",
       "                dtype=<class 'numpy.float64'>, encoding='utf-8',\n",
       "                input='content', lowercase=True, max_df=1.0, max_features=None,\n",
       "                min_df=1, ngram_range=(1, 1), norm='l2', preprocessor=None,\n",
       "                smooth_idf=True, stop_words=None, strip_accents=None,\n",
       "                sublinear_tf=False, token_pattern='(?u)\\\\b\\\\w\\\\w+\\\\b',\n",
       "                tokenizer=None, use_idf=True, vocabulary=None)"
      ]
     },
     "execution_count": 67,
     "metadata": {},
     "output_type": "execute_result"
    }
   ],
   "source": [
    "vq = TfidfVectorizer()\n",
    "vq.fit(questions)"
   ]
  },
  {
   "cell_type": "code",
   "execution_count": 68,
   "metadata": {},
   "outputs": [
    {
     "data": {
      "text/plain": [
       "(12697, 10371)"
      ]
     },
     "execution_count": 68,
     "metadata": {},
     "output_type": "execute_result"
    }
   ],
   "source": [
    "qfeatures = vq.transform(questions)\n",
    "qfeatures.shape"
   ]
  },
  {
   "cell_type": "markdown",
   "metadata": {},
   "source": [
    "Passages"
   ]
  },
  {
   "cell_type": "code",
   "execution_count": 69,
   "metadata": {},
   "outputs": [
    {
     "data": {
      "text/plain": [
       "TfidfVectorizer(analyzer='word', binary=False, decode_error='strict',\n",
       "                dtype=<class 'numpy.float64'>, encoding='utf-8',\n",
       "                input='content', lowercase=True, max_df=1.0, max_features=None,\n",
       "                min_df=1, ngram_range=(1, 1), norm='l2', preprocessor=None,\n",
       "                smooth_idf=True, stop_words=None, strip_accents=None,\n",
       "                sublinear_tf=False, token_pattern='(?u)\\\\b\\\\w\\\\w+\\\\b',\n",
       "                tokenizer=None, use_idf=True, vocabulary=None)"
      ]
     },
     "execution_count": 69,
     "metadata": {},
     "output_type": "execute_result"
    }
   ],
   "source": [
    "vp = TfidfVectorizer()\n",
    "vp.fit(passages)"
   ]
  },
  {
   "cell_type": "code",
   "execution_count": 70,
   "metadata": {},
   "outputs": [
    {
     "data": {
      "text/plain": [
       "(12697, 47576)"
      ]
     },
     "execution_count": 70,
     "metadata": {},
     "output_type": "execute_result"
    }
   ],
   "source": [
    "pfeatures = vp.transform(passages)\n",
    "pfeatures.shape"
   ]
  },
  {
   "cell_type": "markdown",
   "metadata": {},
   "source": [
    "Stacks the question and passage tfidf."
   ]
  },
  {
   "cell_type": "code",
   "execution_count": 71,
   "metadata": {},
   "outputs": [
    {
     "data": {
      "text/plain": [
       "(12697, 57947)"
      ]
     },
     "execution_count": 71,
     "metadata": {},
     "output_type": "execute_result"
    }
   ],
   "source": [
    "tfidf_x = hstack([qfeatures,pfeatures])\n",
    "tfidf_x.shape"
   ]
  },
  {
   "cell_type": "markdown",
   "metadata": {},
   "source": [
    "Train test split for baseline."
   ]
  },
  {
   "cell_type": "code",
   "execution_count": 72,
   "metadata": {},
   "outputs": [],
   "source": [
    "x_train_base, x_test_base, y_train_base, y_test_base = train_test_split(\n",
    "    tfidf_x,\n",
    "    np.array(y),\n",
    "    test_size=0.2)"
   ]
  },
  {
   "cell_type": "markdown",
   "metadata": {},
   "source": [
    "Baseline simple logistic regression."
   ]
  },
  {
   "cell_type": "code",
   "execution_count": 73,
   "metadata": {},
   "outputs": [],
   "source": [
    "model = LogisticRegression(solver=\"lbfgs\", class_weight={0:1,0:1}, max_iter=100000000)"
   ]
  },
  {
   "cell_type": "code",
   "execution_count": 74,
   "metadata": {},
   "outputs": [
    {
     "data": {
      "text/plain": [
       "LogisticRegression(C=1.0, class_weight={0: 1}, dual=False, fit_intercept=True,\n",
       "                   intercept_scaling=1, l1_ratio=None, max_iter=100000000,\n",
       "                   multi_class='auto', n_jobs=None, penalty='l2',\n",
       "                   random_state=None, solver='lbfgs', tol=0.0001, verbose=0,\n",
       "                   warm_start=False)"
      ]
     },
     "execution_count": 74,
     "metadata": {},
     "output_type": "execute_result"
    }
   ],
   "source": [
    "model.fit(x_train_base,y_train_base)"
   ]
  },
  {
   "cell_type": "markdown",
   "metadata": {},
   "source": [
    "Baseline ML model socred a 70% accuracy."
   ]
  },
  {
   "cell_type": "code",
   "execution_count": 75,
   "metadata": {},
   "outputs": [
    {
     "name": "stdout",
     "output_type": "stream",
     "text": [
      "              precision    recall  f1-score   support\n",
      "\n",
      "           0       0.67      0.37      0.48       942\n",
      "           1       0.71      0.89      0.79      1598\n",
      "\n",
      "    accuracy                           0.70      2540\n",
      "   macro avg       0.69      0.63      0.63      2540\n",
      "weighted avg       0.69      0.70      0.67      2540\n",
      "\n"
     ]
    }
   ],
   "source": [
    "print(classification_report(y_test_base,model.predict(x_test_base)))"
   ]
  },
  {
   "cell_type": "markdown",
   "metadata": {},
   "source": [
    "# 6) Model"
   ]
  },
  {
   "cell_type": "markdown",
   "metadata": {},
   "source": [
    "One hot encoded labels."
   ]
  },
  {
   "cell_type": "code",
   "execution_count": 76,
   "metadata": {},
   "outputs": [],
   "source": [
    "y_values = list()\n",
    "for val in answers:\n",
    "    if(val == \"true\"):\n",
    "        y_values.append([1,0])\n",
    "    elif(val == \"false\"):\n",
    "        y_values.append([0,1])"
   ]
  },
  {
   "cell_type": "markdown",
   "metadata": {},
   "source": [
    "Shape of data to be fed into model."
   ]
  },
  {
   "cell_type": "code",
   "execution_count": 77,
   "metadata": {},
   "outputs": [
    {
     "name": "stdout",
     "output_type": "stream",
     "text": [
      "(12697, 15)\n",
      "(12697, 115)\n",
      "(12697, 57947)\n",
      "(12697, 2)\n"
     ]
    }
   ],
   "source": [
    "print(np.array(q_encoded).shape)\n",
    "print(np.array(p_encoded).shape)\n",
    "print(tfidf_x.shape)\n",
    "print(np.array(y_values).shape)"
   ]
  },
  {
   "cell_type": "markdown",
   "metadata": {},
   "source": [
    "Splits data into question, passage, question/passage tfidf and answer train test sets."
   ]
  },
  {
   "cell_type": "code",
   "execution_count": 78,
   "metadata": {},
   "outputs": [],
   "source": [
    "q_x_train, q_x_test, p_x_train, p_x_test, tfidfpq_x_train, tfidfpq_x_test, y_train, y_test = train_test_split(\n",
    "    np.array(q_encoded),\n",
    "    np.array(p_encoded),\n",
    "    tfidf_x,\n",
    "    np.array(y_values),\n",
    "    test_size=0.2)"
   ]
  },
  {
   "cell_type": "markdown",
   "metadata": {},
   "source": [
    "Train test shapes."
   ]
  },
  {
   "cell_type": "code",
   "execution_count": 79,
   "metadata": {},
   "outputs": [
    {
     "name": "stdout",
     "output_type": "stream",
     "text": [
      "(10157, 15) (2540, 15) (10157, 115) (2540, 115) (10157, 57947) (2540, 57947) (10157, 2) (2540, 2)\n"
     ]
    }
   ],
   "source": [
    "print(q_x_train.shape, q_x_test.shape, p_x_train.shape, p_x_test.shape, tfidfpq_x_train.shape, tfidfpq_x_test.shape, y_train.shape, y_test.shape)"
   ]
  },
  {
   "cell_type": "markdown",
   "metadata": {},
   "source": [
    "Creates a functional model with 3 input layers, 2 embedding layers for the encoded questions and passages, 3 LSTM layers and a concatenation layer before a prediction dense 2."
   ]
  },
  {
   "cell_type": "code",
   "execution_count": 80,
   "metadata": {},
   "outputs": [
    {
     "name": "stdout",
     "output_type": "stream",
     "text": [
      "WARNING:tensorflow:From C:\\Users\\David\\Anaconda3\\envs\\P3\\lib\\site-packages\\tensorflow\\python\\ops\\resource_variable_ops.py:435: colocate_with (from tensorflow.python.framework.ops) is deprecated and will be removed in a future version.\n",
      "Instructions for updating:\n",
      "Colocations handled automatically by placer.\n",
      "WARNING:tensorflow:From C:\\Users\\David\\Anaconda3\\envs\\P3\\lib\\site-packages\\tensorflow\\python\\keras\\backend.py:4010: calling dropout (from tensorflow.python.ops.nn_ops) with keep_prob is deprecated and will be removed in a future version.\n",
      "Instructions for updating:\n",
      "Please use `rate` instead of `keep_prob`. Rate should be set to `rate = 1 - keep_prob`.\n"
     ]
    }
   ],
   "source": [
    "inputq = Input(shape=(15,))\n",
    "inputp = Input(shape=(115,))\n",
    "inputtfidfpq = Input(shape=(57947,))\n",
    "\n",
    "    \n",
    "embedding = Embedding(\n",
    "    embedding_matrix.shape[0],\n",
    "    embedding_matrix.shape[1],\n",
    "    weights=[embedding_matrix],\n",
    "    mask_zero=True\n",
    ")\n",
    "\n",
    "embeddingq = embedding(inputq)\n",
    "\n",
    "embeddingp = embedding(inputp)\n",
    "\n",
    "biLSTM = Bidirectional(LSTM(50,activation=\"relu\",dropout=0.2))\n",
    "\n",
    "biLSTMq = biLSTM(embeddingq)\n",
    "\n",
    "biLSTMp = biLSTM(embeddingp)\n",
    "\n",
    "drop1 = Dropout(0.5)(biLSTMq)\n",
    "\n",
    "drop2 = Dropout(0.5)(biLSTMq)\n",
    "\n",
    "    \n",
    "concat = Concatenate()([drop1,drop2,inputtfidfpq])\n",
    " \n",
    "outputs = Dense(2, activation='sigmoid')(concat)\n",
    "model = Model(inputs=[inputq,inputp,inputtfidfpq],outputs=outputs)\n",
    "model.compile(loss='binary_crossentropy', optimizer='adam', metrics=['accuracy'])"
   ]
  },
  {
   "cell_type": "markdown",
   "metadata": {},
   "source": [
    "Model layout."
   ]
  },
  {
   "cell_type": "code",
   "execution_count": 81,
   "metadata": {},
   "outputs": [
    {
     "name": "stdout",
     "output_type": "stream",
     "text": [
      "__________________________________________________________________________________________________\n",
      "Layer (type)                    Output Shape         Param #     Connected to                     \n",
      "==================================================================================================\n",
      "input_1 (InputLayer)            (None, 15)           0                                            \n",
      "__________________________________________________________________________________________________\n",
      "embedding (Embedding)           multiple             13848000    input_1[0][0]                    \n",
      "__________________________________________________________________________________________________\n",
      "bidirectional (Bidirectional)   (None, 100)          140400      embedding[0][0]                  \n",
      "__________________________________________________________________________________________________\n",
      "dropout (Dropout)               (None, 100)          0           bidirectional[0][0]              \n",
      "__________________________________________________________________________________________________\n",
      "dropout_1 (Dropout)             (None, 100)          0           bidirectional[0][0]              \n",
      "__________________________________________________________________________________________________\n",
      "input_3 (InputLayer)            (None, 57947)        0                                            \n",
      "__________________________________________________________________________________________________\n",
      "concatenate (Concatenate)       (None, 58147)        0           dropout[0][0]                    \n",
      "                                                                 dropout_1[0][0]                  \n",
      "                                                                 input_3[0][0]                    \n",
      "__________________________________________________________________________________________________\n",
      "dense (Dense)                   (None, 2)            116296      concatenate[0][0]                \n",
      "==================================================================================================\n",
      "Total params: 14,104,696\n",
      "Trainable params: 14,104,696\n",
      "Non-trainable params: 0\n",
      "__________________________________________________________________________________________________\n"
     ]
    }
   ],
   "source": [
    "model.summary()"
   ]
  },
  {
   "cell_type": "markdown",
   "metadata": {},
   "source": [
    "Runs model 10 epochs."
   ]
  },
  {
   "cell_type": "code",
   "execution_count": 82,
   "metadata": {
    "scrolled": true
   },
   "outputs": [
    {
     "name": "stdout",
     "output_type": "stream",
     "text": [
      "Train on 8125 samples, validate on 2032 samples\n",
      "WARNING:tensorflow:From C:\\Users\\David\\Anaconda3\\envs\\P3\\lib\\site-packages\\tensorflow\\python\\ops\\math_ops.py:3066: to_int32 (from tensorflow.python.ops.math_ops) is deprecated and will be removed in a future version.\n",
      "Instructions for updating:\n",
      "Use tf.cast instead.\n",
      "Epoch 1/10\n",
      "8125/8125 [==============================] - 18s 2ms/sample - loss: 0.6585 - acc: 0.6184 - val_loss: 0.6535 - val_acc: 0.6117\n",
      "Epoch 2/10\n",
      "8125/8125 [==============================] - 15s 2ms/sample - loss: 0.6233 - acc: 0.6284 - val_loss: 0.6412 - val_acc: 0.6188\n",
      "Epoch 3/10\n",
      "8125/8125 [==============================] - 15s 2ms/sample - loss: 0.5617 - acc: 0.7051 - val_loss: 0.6398 - val_acc: 0.6378\n",
      "Epoch 4/10\n",
      "8125/8125 [==============================] - 15s 2ms/sample - loss: 0.4709 - acc: 0.7782 - val_loss: 0.6725 - val_acc: 0.6353\n",
      "Epoch 5/10\n",
      "8125/8125 [==============================] - 15s 2ms/sample - loss: 0.3748 - acc: 0.8337 - val_loss: 0.8004 - val_acc: 0.6213\n",
      "Epoch 6/10\n",
      "8125/8125 [==============================] - 15s 2ms/sample - loss: 0.3017 - acc: 0.8728 - val_loss: 0.8878 - val_acc: 0.6405\n",
      "Epoch 7/10\n",
      "8125/8125 [==============================] - 15s 2ms/sample - loss: 0.2379 - acc: 0.9025 - val_loss: 1.0877 - val_acc: 0.6061\n",
      "Epoch 8/10\n",
      "8125/8125 [==============================] - 15s 2ms/sample - loss: 0.2021 - acc: 0.9186 - val_loss: 1.0377 - val_acc: 0.6262\n",
      "Epoch 9/10\n",
      "8125/8125 [==============================] - 15s 2ms/sample - loss: 0.1580 - acc: 0.9362 - val_loss: 1.3727 - val_acc: 0.6206\n",
      "Epoch 10/10\n",
      "8125/8125 [==============================] - 15s 2ms/sample - loss: 0.1325 - acc: 0.9484 - val_loss: 1.5554 - val_acc: 0.6061\n"
     ]
    }
   ],
   "source": [
    "history = model.fit([q_x_train,p_x_train,tfidfpq_x_train], y_train, validation_split=0.2, epochs=10, batch_size=64)"
   ]
  },
  {
   "cell_type": "markdown",
   "metadata": {},
   "source": [
    "## Error Analysis"
   ]
  },
  {
   "cell_type": "markdown",
   "metadata": {},
   "source": [
    "Prints predictions and actual labels."
   ]
  },
  {
   "cell_type": "code",
   "execution_count": 83,
   "metadata": {},
   "outputs": [
    {
     "name": "stdout",
     "output_type": "stream",
     "text": [
      "0 [0 1]\n",
      "1 [1 0]\n",
      "2 [0 1]\n",
      "3 [1 0]\n",
      "4 [1 0]\n",
      "0 [0.01704562 0.9826652 ]\n",
      "1 [0.00117293 0.9988265 ]\n",
      "2 [0.06366137 0.9357145 ]\n",
      "3 [9.9988484e-01 1.1733174e-04]\n",
      "4 [0.91926837 0.08050704]\n"
     ]
    }
   ],
   "source": [
    "for i in range(5):\n",
    "    print(i,y_test[i])\n",
    "y_predict = model.predict([q_x_test,p_x_test,tfidfpq_x_test])\n",
    "for i in range(5):\n",
    "    print(i,y_predict[i])"
   ]
  },
  {
   "cell_type": "markdown",
   "metadata": {},
   "source": [
    "Accuracy on the test set."
   ]
  },
  {
   "cell_type": "code",
   "execution_count": 84,
   "metadata": {},
   "outputs": [
    {
     "name": "stdout",
     "output_type": "stream",
     "text": [
      "Accuracy is: 0.6153543307086614\n"
     ]
    }
   ],
   "source": [
    "predict = list()\n",
    "for x in range(len(y_predict)):\n",
    "    predict.append(np.argmax(y_predict[x]))\n",
    "test = list()\n",
    "for x in range(len(y_test)):\n",
    "    test.append(np.argmax(y_test[x]))\n",
    "accuracy = accuracy_score(test,predict)\n",
    "print('Accuracy is:', accuracy)"
   ]
  },
  {
   "cell_type": "markdown",
   "metadata": {},
   "source": [
    "Plots train and validation accuracy over epochs and loss function of train and val over epochs."
   ]
  },
  {
   "cell_type": "code",
   "execution_count": 85,
   "metadata": {},
   "outputs": [
    {
     "data": {
      "image/png": "[encoded data removed]",
      "text/plain": [
       "<Figure size 864x432 with 2 Axes>"
      ]
     },
     "metadata": {
      "needs_background": "light"
     },
     "output_type": "display_data"
    }
   ],
   "source": [
    "plt.figure(figsize=(12,6))\n",
    "\n",
    "plt.subplot(121)\n",
    "plt.plot(history.history[\"acc\"])\n",
    "plt.plot(history.history[\"val_acc\"])\n",
    "plt.title(\"Model Accuracy\")\n",
    "plt.xlabel(\"Epochs\")\n",
    "plt.ylabel(\"Accuracy\")\n",
    "plt.legend([\"Train\",\"Val\"], loc=\"lower right\")\n",
    "\n",
    "plt.subplot(122)\n",
    "plt.plot(history.history[\"loss\"])\n",
    "plt.plot(history.history[\"val_loss\"])\n",
    "plt.title(\"Model Loss\")\n",
    "plt.ylabel(\"Loss\")\n",
    "plt.xlabel(\"Epochs\")\n",
    "plt.legend(['Train', 'Val'], loc='upper right')\n",
    "\n",
    "plt.show()"
   ]
  },
  {
   "cell_type": "code",
   "execution_count": 86,
   "metadata": {},
   "outputs": [],
   "source": [
    "'''Due to the sklearn method to plot not working this method had to be implimented \n",
    "inorder to properly plot a confusion matrix'''\n",
    "def plot_confusion_matrix(cm,target_names,title='Confusion matrix',normalize=False):\n",
    "\n",
    "    accuracy = np.trace(cm) / float(np.sum(cm))\n",
    "    misclass = 1 - accuracy\n",
    "\n",
    "    plt.figure(figsize=(8, 6))\n",
    "    plt.grid(b=False)\n",
    "    plt.imshow(cm, interpolation='nearest', cmap=\"Blues\")\n",
    "    plt.title(title)\n",
    "    plt.colorbar()\n",
    "\n",
    "    if target_names is not None:\n",
    "        tick_marks = np.arange(len(target_names))\n",
    "        plt.xticks(tick_marks, target_names, rotation=45)\n",
    "        plt.yticks(tick_marks, target_names)\n",
    "    if normalize:\n",
    "        cm = cm.astype('float') / cm.sum(axis=1)[:, np.newaxis]\n",
    "\n",
    "\n",
    "    thresh = cm.max() / 1.5 if normalize else cm.max() / 2\n",
    "    for i, j in itertools.product(range(cm.shape[0]), range(cm.shape[1])):\n",
    "        if normalize:\n",
    "            plt.text(j, i, \"{:0.4f}\".format(cm[i, j]),\n",
    "                     horizontalalignment=\"center\",\n",
    "                     color=\"white\" if cm[i, j] > thresh else \"black\")\n",
    "        else:\n",
    "            plt.text(j, i, \"{:,}\".format(cm[i, j]),\n",
    "                     horizontalalignment=\"center\",\n",
    "                     color=\"white\" if cm[i, j] > thresh else \"black\")\n",
    "\n",
    "\n",
    "    plt.tight_layout()\n",
    "    plt.ylabel('True label')\n",
    "    plt.xlabel('Predicted label\\naccuracy={:0.4f}; misclass={:0.4f}'.format(accuracy, misclass))\n",
    "    plt.show()\n"
   ]
  },
  {
   "cell_type": "markdown",
   "metadata": {},
   "source": [
    "Plots a confusion matrix to show were the model predicted incorrectly."
   ]
  },
  {
   "cell_type": "code",
   "execution_count": 87,
   "metadata": {},
   "outputs": [
    {
     "data": {
      "image/png": "[encoded data removed]",
      "text/plain": [
       "<Figure size 576x432 with 2 Axes>"
      ]
     },
     "metadata": {
      "needs_background": "light"
     },
     "output_type": "display_data"
    }
   ],
   "source": [
    "cm = confusion_matrix(test,predict)\n",
    "plot_confusion_matrix(cm = cm,target_names = [\"true\",\"false\"],title=\"Confusion Matrix\")"
   ]
  },
  {
   "cell_type": "markdown",
   "metadata": {},
   "source": [
    "Gets example preictions."
   ]
  },
  {
   "cell_type": "code",
   "execution_count": 88,
   "metadata": {},
   "outputs": [],
   "source": [
    "indecies = getRandomIndecies(len(y_predict),n_indecies=10)"
   ]
  },
  {
   "cell_type": "markdown",
   "metadata": {},
   "source": [
    "Decodes encoded token sequences."
   ]
  },
  {
   "cell_type": "code",
   "execution_count": 89,
   "metadata": {},
   "outputs": [],
   "source": [
    "def decode(token_list,token_decode):\n",
    "    decoded_tokens = list()\n",
    "    for item in token_list:\n",
    "        tokens = list()\n",
    "        for token in item:\n",
    "            tokens.append(token_decode[token])\n",
    "        decoded_tokens.append(tokens)\n",
    "    return decoded_tokens"
   ]
  },
  {
   "cell_type": "code",
   "execution_count": 90,
   "metadata": {},
   "outputs": [],
   "source": [
    "q_decode = decode(q_x_test,decoder)\n",
    "p_decode = decode(p_x_test,decoder)"
   ]
  },
  {
   "cell_type": "markdown",
   "metadata": {},
   "source": [
    "Prints predictions for error analysis."
   ]
  },
  {
   "cell_type": "code",
   "execution_count": 91,
   "metadata": {},
   "outputs": [
    {
     "name": "stdout",
     "output_type": "stream",
     "text": [
      "['person', 'die', 'from', 'drinking', 'too', 'much', 'water', '%PAD%', '%PAD%', '%PAD%', '%PAD%', '%PAD%', '%PAD%', '%PAD%', '%PAD%'] \n",
      "\n",
      "['under', 'normal', 'circumstances', 'accidentally', 'consuming', 'too', 'much', 'water', 'exceptionally', 'rare', 'nearly', 'all', 'deaths', 'related', 'water', 'intoxication', 'normal', 'individuals', 'resulted', 'either', 'from', 'water', 'drinking', 'contests', 'which', 'individuals', 'attempt', 'consume', 'large', 'amounts', 'water', 'or', 'from', 'long', 'bouts', 'exercise', 'during', 'which', 'excessive', 'amounts', 'fluid', 'were', 'consumed', 'addition', 'water', 'cure', 'method', 'torture', 'which', 'victim', 'forced', 'consume', 'excessive', 'amounts', 'water', 'cause', 'water', 'intoxication', '%PAD%', '%PAD%', '%PAD%', '%PAD%', '%PAD%', '%PAD%', '%PAD%', '%PAD%', '%PAD%', '%PAD%', '%PAD%', '%PAD%', '%PAD%', '%PAD%', '%PAD%', '%PAD%', '%PAD%', '%PAD%', '%PAD%', '%PAD%', '%PAD%', '%PAD%', '%PAD%', '%PAD%', '%PAD%', '%PAD%', '%PAD%', '%PAD%', '%PAD%', '%PAD%', '%PAD%', '%PAD%', '%PAD%', '%PAD%', '%PAD%', '%PAD%', '%PAD%', '%PAD%', '%PAD%', '%PAD%', '%PAD%', '%PAD%', '%PAD%', '%PAD%', '%PAD%', '%PAD%', '%PAD%', '%PAD%', '%PAD%', '%PAD%', '%PAD%', '%PAD%', '%PAD%', '%PAD%', '%PAD%', '%PAD%', '%PAD%'] \n",
      "\n",
      "[1 0] \n",
      "\n",
      "[0.97591347 0.02379739] \n",
      "\n",
      "['do', 'exoplanetary', 'systems', 'follow', 'titus', 'bode', 'rule', '%PAD%', '%PAD%', '%PAD%', '%PAD%', '%PAD%', '%PAD%', '%PAD%', '%PAD%'] \n",
      "\n",
      "['recent', 'astronomical', 'research', 'suggests', 'that', 'planetary', 'systems', 'around', 'some', 'other', 'stars', 'may', 'follow', '%OOV%', '%OOV%', 'bode', 'like', 'laws', 'bovaird', 'lineweaver', 'applied', 'generalized', '%OOV%', '%OOV%', 'bode', 'relation', '68', 'exoplanet', 'systems', 'that', 'contain', 'four', 'or', 'more', 'planets', 'they', 'showed', 'that', '96', 'these', 'exoplanet', 'systems', 'adhere', 'generalized', '%OOV%', '%OOV%', 'bode', 'relation', 'similar', 'or', 'greater', 'extent', 'than', 'solar', 'system', 'does', 'locations', 'potentially', 'undetected', 'exoplanets', 'predicted', 'each', 'system', '%PAD%', '%PAD%', '%PAD%', '%PAD%', '%PAD%', '%PAD%', '%PAD%', '%PAD%', '%PAD%', '%PAD%', '%PAD%', '%PAD%', '%PAD%', '%PAD%', '%PAD%', '%PAD%', '%PAD%', '%PAD%', '%PAD%', '%PAD%', '%PAD%', '%PAD%', '%PAD%', '%PAD%', '%PAD%', '%PAD%', '%PAD%', '%PAD%', '%PAD%', '%PAD%', '%PAD%', '%PAD%', '%PAD%', '%PAD%', '%PAD%', '%PAD%', '%PAD%', '%PAD%', '%PAD%', '%PAD%', '%PAD%', '%PAD%', '%PAD%', '%PAD%', '%PAD%', '%PAD%', '%PAD%', '%PAD%', '%PAD%', '%PAD%', '%PAD%', '%PAD%'] \n",
      "\n",
      "[1 0] \n",
      "\n",
      "[0.9919753  0.00789529] \n",
      "\n",
      "['mina', 'say', 'what', 'still', 'power', '99', '%PAD%', '%PAD%', '%PAD%', '%PAD%', '%PAD%', '%PAD%', '%PAD%', '%PAD%', '%PAD%'] \n",
      "\n",
      "['minas', 'currently', 'broadcasts', 'legendary', 'urban', 'radio', 'station', '%OOV%', 'philadelphia', 'she', 'recruited', 'join', 'their', 'morning', 'show', 'air', 'host', 'oversee', 'digital', 'social', 'media', 'efforts', 'urban', 'clear', 'channel', 'communications', 'radio', 'stations', 'philly', 'beginning', 'there', 'at', 'age', '25', 'mina', 'youngest', 'female', 'radio', 'personality', 'ever', 'host', 'morning', 'drive', 'philly', 'since', 'joining', 'mornings', 'shows', 'ratings', 'reached', '1', 'she', 'also', 'founded', 'all', 'girls', 'dance', 'team', 'power', 'squad', 'which', 'she', 'currently', 'leads', 'mina', 'also', 'hosts', 'new', 'artist', 'showcase', 'called', 'next', 'deck', '%PAD%', '%PAD%', '%PAD%', '%PAD%', '%PAD%', '%PAD%', '%PAD%', '%PAD%', '%PAD%', '%PAD%', '%PAD%', '%PAD%', '%PAD%', '%PAD%', '%PAD%', '%PAD%', '%PAD%', '%PAD%', '%PAD%', '%PAD%', '%PAD%', '%PAD%', '%PAD%', '%PAD%', '%PAD%', '%PAD%', '%PAD%', '%PAD%', '%PAD%', '%PAD%', '%PAD%', '%PAD%', '%PAD%', '%PAD%', '%PAD%', '%PAD%', '%PAD%', '%PAD%', '%PAD%', '%PAD%', '%PAD%', '%PAD%'] \n",
      "\n",
      "[1 0] \n",
      "\n",
      "[0.00413772 0.9959104 ] \n",
      "\n",
      "['legal', 'grow', 'pot', 'canada', '%PAD%', '%PAD%', '%PAD%', '%PAD%', '%PAD%', '%PAD%', '%PAD%', '%PAD%', '%PAD%', '%PAD%', '%PAD%'] \n",
      "\n",
      "['cannabis', 'canada', 'legal', 'both', 'recreational', 'medicinal', 'purposes', 'medicinal', 'use', 'cannabis', 'legalized', 'nationwide', '2001', 'under', 'conditions', 'outlined', 'marihuana', 'medical', 'purposes', 'regulations', 'later', 'superseded', 'by', 'access', 'cannabis', 'medical', 'purposes', 'regulations', 'issued', 'by', 'health', 'canada', 'seed', 'grain', 'fibre', 'production', 'permitted', 'under', 'licence', 'by', 'health', 'canada', 'federal', 'cannabis', 'act', 'came', 'into', 'effect', 'october', '17', '2018', 'made', 'canada', 'second', 'country', 'after', 'uruguay', 'formally', 'legalize', 'recreational', 'use', 'plant', 'whereas', 'decriminalization', 'would', 'simply', 'remove', 'laws', 'restricting', 'use', 'cannabis', 'products', 'been', 'implemented', 'many', 'countries', 'legalization', 'allows', 'taxation', 'legally', 'produced', 'cannabis', 'canada', 'first', 'g7', 'g20', 'nation', 'do', 'so', '%PAD%', '%PAD%', '%PAD%', '%PAD%', '%PAD%', '%PAD%', '%PAD%', '%PAD%', '%PAD%', '%PAD%', '%PAD%', '%PAD%', '%PAD%', '%PAD%', '%PAD%', '%PAD%', '%PAD%', '%PAD%', '%PAD%', '%PAD%', '%PAD%', '%PAD%', '%PAD%', '%PAD%', '%PAD%', '%PAD%'] \n",
      "\n",
      "[1 0] \n",
      "\n",
      "[9.9999982e-01 1.4901161e-07] \n",
      "\n",
      "['foreign', 'born', 'person', 'run', 'president', '%PAD%', '%PAD%', '%PAD%', '%PAD%', '%PAD%', '%PAD%', '%PAD%', '%PAD%', '%PAD%', '%PAD%'] \n",
      "\n",
      "['status', 'natural', 'born', 'citizen', 'united', 'states', 'one', 'eligibility', 'requirements', 'established', 'united', 'states', 'constitution', 'holding', 'office', 'president', 'or', 'vice', 'president', 'this', 'requirement', 'intended', 'protect', 'nation', 'from', 'foreign', 'influence', '%PAD%', '%PAD%', '%PAD%', '%PAD%', '%PAD%', '%PAD%', '%PAD%', '%PAD%', '%PAD%', '%PAD%', '%PAD%', '%PAD%', '%PAD%', '%PAD%', '%PAD%', '%PAD%', '%PAD%', '%PAD%', '%PAD%', '%PAD%', '%PAD%', '%PAD%', '%PAD%', '%PAD%', '%PAD%', '%PAD%', '%PAD%', '%PAD%', '%PAD%', '%PAD%', '%PAD%', '%PAD%', '%PAD%', '%PAD%', '%PAD%', '%PAD%', '%PAD%', '%PAD%', '%PAD%', '%PAD%', '%PAD%', '%PAD%', '%PAD%', '%PAD%', '%PAD%', '%PAD%', '%PAD%', '%PAD%', '%PAD%', '%PAD%', '%PAD%', '%PAD%', '%PAD%', '%PAD%', '%PAD%', '%PAD%', '%PAD%', '%PAD%', '%PAD%', '%PAD%', '%PAD%', '%PAD%', '%PAD%', '%PAD%', '%PAD%', '%PAD%', '%PAD%', '%PAD%', '%PAD%', '%PAD%', '%PAD%', '%PAD%', '%PAD%', '%PAD%', '%PAD%', '%PAD%', '%PAD%', '%PAD%', '%PAD%', '%PAD%', '%PAD%', '%PAD%', '%PAD%', '%PAD%', '%PAD%', '%PAD%', '%PAD%', '%PAD%'] \n",
      "\n",
      "[0 1] \n",
      "\n",
      "[0.18298325 0.8164048 ] \n",
      "\n",
      "['does', 'naruto', 'ultimate', 'ninja', 'storm', 'story', 'mode', '%PAD%', '%PAD%', '%PAD%', '%PAD%', '%PAD%', '%PAD%', '%PAD%', '%PAD%'] \n",
      "\n",
      "['story', 'mode', 'loosely', 'covers', 'events', 'anime', 'up', 'episode', '135', 'players', 'able', 'explore', 'hidden', 'leaf', 'village', 'between', 'missions', 'which', 'acts', 'central', 'hub', 'story', 'mode', 'access', 'more', 'missions', '%PAD%', '%PAD%', '%PAD%', '%PAD%', '%PAD%', '%PAD%', '%PAD%', '%PAD%', '%PAD%', '%PAD%', '%PAD%', '%PAD%', '%PAD%', '%PAD%', '%PAD%', '%PAD%', '%PAD%', '%PAD%', '%PAD%', '%PAD%', '%PAD%', '%PAD%', '%PAD%', '%PAD%', '%PAD%', '%PAD%', '%PAD%', '%PAD%', '%PAD%', '%PAD%', '%PAD%', '%PAD%', '%PAD%', '%PAD%', '%PAD%', '%PAD%', '%PAD%', '%PAD%', '%PAD%', '%PAD%', '%PAD%', '%PAD%', '%PAD%', '%PAD%', '%PAD%', '%PAD%', '%PAD%', '%PAD%', '%PAD%', '%PAD%', '%PAD%', '%PAD%', '%PAD%', '%PAD%', '%PAD%', '%PAD%', '%PAD%', '%PAD%', '%PAD%', '%PAD%', '%PAD%', '%PAD%', '%PAD%', '%PAD%', '%PAD%', '%PAD%', '%PAD%', '%PAD%', '%PAD%', '%PAD%', '%PAD%', '%PAD%', '%PAD%', '%PAD%', '%PAD%', '%PAD%', '%PAD%', '%PAD%', '%PAD%', '%PAD%', '%PAD%', '%PAD%', '%PAD%', '%PAD%', '%PAD%', '%PAD%', '%PAD%', '%PAD%', '%PAD%'] \n",
      "\n",
      "[1 0] \n",
      "\n",
      "[0.9959854  0.00400296] \n",
      "\n",
      "['baldurs', 'gate', '2', 'direct', 'sequel', '%PAD%', '%PAD%', '%PAD%', '%PAD%', '%PAD%', '%PAD%', '%PAD%', '%PAD%', '%PAD%', '%PAD%'] \n",
      "\n",
      "['baldurs', 'gate', 'ii', 'shadows', 'amn', 'fantasy', 'role', 'playing', 'video', 'game', 'developed', 'by', 'bioware', 'published', 'by', 'interplay', 'entertainment', 'sequel', 'baldurs', 'gate', '1998', 'released', 'microsoft', 'windows', 'september', '2000', 'like', 'baldurs', 'gate', 'game', 'set', 'forgotten', 'realms', 'fantasy', 'campaign', 'setting', 'based', 'advanced', 'dungeons', '%OOV%', 'dragons', '2nd', 'edition', 'rules', 'game', 'which', 'powered', 'by', 'biowares', 'infinity', 'engine', 'uses', 'isometric', 'perspective', 'pausable', 'real', 'time', 'gameplay', 'player', 'controls', 'party', 'up', 'six', 'characters', 'one', 'whom', 'player', 'created', 'protagonist', 'while', 'others', 'certain', 'characters', 'recruited', 'from', 'game', '%PAD%', '%PAD%', '%PAD%', '%PAD%', '%PAD%', '%PAD%', '%PAD%', '%PAD%', '%PAD%', '%PAD%', '%PAD%', '%PAD%', '%PAD%', '%PAD%', '%PAD%', '%PAD%', '%PAD%', '%PAD%', '%PAD%', '%PAD%', '%PAD%', '%PAD%', '%PAD%', '%PAD%', '%PAD%', '%PAD%', '%PAD%', '%PAD%', '%PAD%', '%PAD%', '%PAD%', '%PAD%', '%PAD%', '%PAD%', '%PAD%', '%PAD%', '%PAD%', '%PAD%', '%PAD%'] \n",
      "\n",
      "[1 0] \n",
      "\n",
      "[0.9981556  0.00184402] \n",
      "\n",
      "['i', 'perform', 'copyrighted', 'song', 'public', '%PAD%', '%PAD%', '%PAD%', '%PAD%', '%PAD%', '%PAD%', '%PAD%', '%PAD%', '%PAD%', '%PAD%'] \n",
      "\n",
      "['permission', 'publicly', 'perform', 'song', 'must', 'obtained', 'from', 'copyright', 'holder', 'or', 'collective', 'rights', 'organization', '%PAD%', '%PAD%', '%PAD%', '%PAD%', '%PAD%', '%PAD%', '%PAD%', '%PAD%', '%PAD%', '%PAD%', '%PAD%', '%PAD%', '%PAD%', '%PAD%', '%PAD%', '%PAD%', '%PAD%', '%PAD%', '%PAD%', '%PAD%', '%PAD%', '%PAD%', '%PAD%', '%PAD%', '%PAD%', '%PAD%', '%PAD%', '%PAD%', '%PAD%', '%PAD%', '%PAD%', '%PAD%', '%PAD%', '%PAD%', '%PAD%', '%PAD%', '%PAD%', '%PAD%', '%PAD%', '%PAD%', '%PAD%', '%PAD%', '%PAD%', '%PAD%', '%PAD%', '%PAD%', '%PAD%', '%PAD%', '%PAD%', '%PAD%', '%PAD%', '%PAD%', '%PAD%', '%PAD%', '%PAD%', '%PAD%', '%PAD%', '%PAD%', '%PAD%', '%PAD%', '%PAD%', '%PAD%', '%PAD%', '%PAD%', '%PAD%', '%PAD%', '%PAD%', '%PAD%', '%PAD%', '%PAD%', '%PAD%', '%PAD%', '%PAD%', '%PAD%', '%PAD%', '%PAD%', '%PAD%', '%PAD%', '%PAD%', '%PAD%', '%PAD%', '%PAD%', '%PAD%', '%PAD%', '%PAD%', '%PAD%', '%PAD%', '%PAD%', '%PAD%', '%PAD%', '%PAD%', '%PAD%', '%PAD%', '%PAD%', '%PAD%', '%PAD%', '%PAD%', '%PAD%', '%PAD%', '%PAD%', '%PAD%', '%PAD%'] \n",
      "\n",
      "[0 1] \n",
      "\n",
      "[0.9393784  0.06100205] \n",
      "\n",
      "['would', 'person', 'sink', 'corn', 'silo', '%PAD%', '%PAD%', '%PAD%', '%PAD%', '%PAD%', '%PAD%', '%PAD%', '%PAD%', '%PAD%', '%PAD%'] \n",
      "\n",
      "['grain', 'entrapment', 'or', 'grain', 'engulfment', 'occurs', 'when', 'person', 'becomes', 'submerged', 'grain', 'cannot', 'get', 'out', 'without', 'assistance', 'this', 'more', 'frequently', 'occurs', 'at', 'storage', 'facilities', 'such', 'silos', 'or', 'grain', 'elevators', 'but', 'been', 'known', 'occur', 'around', 'any', 'large', 'quantity', 'grain', 'even', 'freestanding', 'piles', 'outdoors', 'usually', 'unstable', 'grain', 'collapses', 'suddenly', 'wholly', 'or', 'partially', 'burying', 'workers', 'who', 'may', 'within', 'entrapment', 'occurs', 'when', 'victims', 'partially', 'submerged', 'but', 'cannot', 'remove', 'themselves', 'engulfment', 'occurs', 'when', 'they', 'completely', 'buried', 'within', 'grain', 'engulfment', 'very', 'high', 'fatality', 'rate', '%PAD%', '%PAD%', '%PAD%', '%PAD%', '%PAD%', '%PAD%', '%PAD%', '%PAD%', '%PAD%', '%PAD%', '%PAD%', '%PAD%', '%PAD%', '%PAD%', '%PAD%', '%PAD%', '%PAD%', '%PAD%', '%PAD%', '%PAD%', '%PAD%', '%PAD%', '%PAD%', '%PAD%', '%PAD%', '%PAD%', '%PAD%', '%PAD%', '%PAD%', '%PAD%', '%PAD%', '%PAD%', '%PAD%', '%PAD%', '%PAD%', '%PAD%', '%PAD%', '%PAD%'] \n",
      "\n",
      "[1 0] \n",
      "\n",
      "[0.02824613 0.97154725] \n",
      "\n",
      "['bermuda', 'island', 'caribbean', 'sea', '%PAD%', '%PAD%', '%PAD%', '%PAD%', '%PAD%', '%PAD%', '%PAD%', '%PAD%', '%PAD%', '%PAD%', '%PAD%'] \n",
      "\n",
      "['bermuda', '%OOV%', '%OOV%', 'british', 'overseas', 'territory', 'north', 'atlantic', 'ocean', 'approximately', '1070', 'km', '665', 'mi', 'east', 'southeast', 'cape', 'hatteras', 'north', 'carolina', '1236', 'km', '768', 'mi', 'south', 'cape', 'sable', 'island', 'nova', 'scotia', '1578', 'km', '981', 'mi', 'north', 'puerto', 'rico', 'capital', 'city', 'hamilton', 'bermuda', 'associate', 'member', 'caribbean', 'community', 'caricom', '%PAD%', '%PAD%', '%PAD%', '%PAD%', '%PAD%', '%PAD%', '%PAD%', '%PAD%', '%PAD%', '%PAD%', '%PAD%', '%PAD%', '%PAD%', '%PAD%', '%PAD%', '%PAD%', '%PAD%', '%PAD%', '%PAD%', '%PAD%', '%PAD%', '%PAD%', '%PAD%', '%PAD%', '%PAD%', '%PAD%', '%PAD%', '%PAD%', '%PAD%', '%PAD%', '%PAD%', '%PAD%', '%PAD%', '%PAD%', '%PAD%', '%PAD%', '%PAD%', '%PAD%', '%PAD%', '%PAD%', '%PAD%', '%PAD%', '%PAD%', '%PAD%', '%PAD%', '%PAD%', '%PAD%', '%PAD%', '%PAD%', '%PAD%', '%PAD%', '%PAD%', '%PAD%', '%PAD%', '%PAD%', '%PAD%', '%PAD%', '%PAD%', '%PAD%', '%PAD%', '%PAD%', '%PAD%', '%PAD%', '%PAD%', '%PAD%', '%PAD%', '%PAD%', '%PAD%', '%PAD%'] \n",
      "\n",
      "[0 1] \n",
      "\n",
      "[0.9870346  0.01300022] \n",
      "\n"
     ]
    }
   ],
   "source": [
    "for index in indecies:\n",
    "    print(q_decode[index],'\\n')\n",
    "    print(p_decode[index],'\\n')\n",
    "    print(y_test[index], '\\n')\n",
    "    print(y_predict[index], '\\n')"
   ]
  },
  {
   "cell_type": "markdown",
   "metadata": {},
   "source": [
    "# 7) Deploy, Monitor, Maintain"
   ]
  },
  {
   "cell_type": "markdown",
   "metadata": {},
   "source": [
    "## Deploy"
   ]
  },
  {
   "cell_type": "markdown",
   "metadata": {},
   "source": [
    "Currently, this model is not in a state to be deployed. With better feature engineering or a more relative data set, this model could perform well enough to be deployed through cloud services in order to answer more narrow questions."
   ]
  },
  {
   "cell_type": "markdown",
   "metadata": {},
   "source": [
    "## Monitor"
   ]
  },
  {
   "cell_type": "markdown",
   "metadata": {},
   "source": [
    "In order to monitor our model, we would compare the current dictionaries to the new dictionaires and make changes to improve the accuracy for future questions."
   ]
  },
  {
   "cell_type": "markdown",
   "metadata": {},
   "source": [
    "## Maintain"
   ]
  },
  {
   "cell_type": "markdown",
   "metadata": {},
   "source": [
    "In order to maintain this model, we could update the dictionary to support the majority of words used instead of specifying the dictonary towards our dataset."
   ]
  },
  {
   "cell_type": "markdown",
   "metadata": {},
   "source": [
    "# 8) Summary"
   ]
  },
  {
   "cell_type": "markdown",
   "metadata": {},
   "source": [
    "Our baseline tdifVecotrlizer preformed slightly better than the RNN. The logistic regression baseline had signifigantly less feature engineering and ran much quicker. This could mean a more complex model architecture is needed.The paper that we used as reference delves deeper with the idea that \"Exploring the Surprising Difficulty of Natural Yes/No Questions\" is a hard topic that is still being worked on. Newer technology allows for attention layers that detect similarities in the question and passage and output a score based on the similarities. With this new technology, we could have improved the validation accuracy based on similar word groupings. Overall, this project has room for improvement in the future with newer versions and more similar datasets. "
   ]
  }
 ],
 "metadata": {
  "kernelspec": {
   "display_name": "Python 3",
   "language": "python",
   "name": "python3"
  },
  "language_info": {
   "codemirror_mode": {
    "name": "ipython",
    "version": 3
   },
   "file_extension": ".py",
   "mimetype": "text/x-python",
   "name": "python",
   "nbconvert_exporter": "python",
   "pygments_lexer": "ipython3",
   "version": "3.7.7"
  }
 },
 "nbformat": 4,
 "nbformat_minor": 4
}
